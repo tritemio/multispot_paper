{
 "cells": [
  {
   "cell_type": "markdown",
   "metadata": {
    "internals": {
     "slide_type": "subslide"
    },
    "slideshow": {
     "slide_type": "slide"
    }
   },
   "source": [
    "# Multi-spots paper data analysis\n",
    "\n",
    "<p class=\"lead\">This notebook performs data analysis for the paper: <br><br>\n",
    "<i>Multi-spot single-molecule FRET: high-throughput analysis of freely diffusing molecules</i> <br>\n",
    "Ingargiola et al. PLOS ONE (2017) \n",
    "<a href=\"https://doi.org/10.1371/journal.pone.0175766\">doi:10.1371/journal.pone.0175766</a>\n",
    "</p>\n",
    "\n",
    "\n",
    "Here you will find the dsDNA experiements analysis. For the realtime kinetics analysis see the notebook:\n",
    "\n",
    "- [Realtime Kinetics Analysis](realtime kinetics/index_realtime_kinetics.ipynb)"
   ]
  },
  {
   "cell_type": "markdown",
   "metadata": {
    "internals": {},
    "slideshow": {
     "slide_type": "-"
    }
   },
   "source": [
    "# Introduction\n",
    "\n",
    "You will find below the list of notebooks executed during the analysis. The text explains the\n",
    "purpose of each notebook. After each `run_notebook` command, there are links to access the \n",
    "output notebooks (i.e. the executed version which contains all the results).\n",
    "\n",
    "You will also find links to the eventual CSV files saved."
   ]
  },
  {
   "cell_type": "markdown",
   "metadata": {},
   "source": [
    "# Quick Figure's Reference\n",
    "\n",
    "Jump to the section generating a particular figure:\n",
    "\n",
    ">**Figure 2.** FRET efficiency for 5 dsDNA samples estimated using different methods.\n",
    ">  - See section [μs-ALEX: Corrected E figure](#μs-ALEX:-Corrected-E-figure)\n",
    "\n",
    ">**Figure 3.** DCR-corrected total count rate as a function of the pixel.\n",
    "> - See section [Signal vs spot](#Signal-vs-spot)\n",
    "\n",
    ">**Figure 6.** Leakage coefficient for different samples and spots. \n",
    "> - See section [Leakage coefficient](#Leakage-coefficient)\n",
    "\n",
    ">**Figure 5.** Burst statistics versus spot.\n",
    "> - See section [Burst statistics vs spot](#Burst-statistics-vs-spot)\n",
    "\n",
    ">**Figure 8.** µs-ALEX vs multispot burst data distributions.\n",
    "> - See section [Burst statistics vs usALEX](#Burst-statistics-vs-usALEX)\n",
    "\n",
    ">**Figure 7.** FRET efficiency versus dye separation for the multispot experiments.\n",
    "> - See section [FRET vs distance figure](#FRET-vs-distance-figure)\n"
   ]
  },
  {
   "cell_type": "markdown",
   "metadata": {
    "internals": {},
    "slideshow": {
     "slide_type": "-"
    }
   },
   "source": [
    "# Execution Details\n",
    "\n",
    "<br>\n",
    "<div class=\"alert alert-info\">\n",
    "This section gives more details on how the execution is organized.\n",
    "If you only want to explore the results, just skip the next section.\n",
    "</div>\n",
    "\n",
    "This is \"master\" notebook that sequentially executes all the other notebooks.\n",
    "By running this notebook you can reproduce all the results presented in the paper. \n",
    "\n",
    "We save intermediate results in text CSV files that can be easily tracked by git.\n",
    "The files are shown as tables or links after each notebook is executed.\n",
    "\n",
    "\n",
    "## Notebooks with parameters\n",
    "\n",
    "Some of the μs-ALEX notebooks are executed several times, once for each of \n",
    "the 5 dsDNA measurement.  These are called template notebooks.\n",
    "When a template notebook is executed a set of output notebooks is generated, \n",
    "one for each sample. After the execution, the cell will show links to the \n",
    "*template notebook* (unexecuted, contains no output) and to the *output notebooks* \n",
    "for each sample. These output notebooks are meant to be read-only and are used \n",
    "to inspect the full analysis results for each sample.\n",
    "\n",
    "After the links, we show a table containing summary data saved when executing\n",
    "the notebook (a row for each sample and a column for each variable). To find where \n",
    "a specific variable is computed, you can search the variable name in the output \n",
    "notebooks (one for each sample).\n",
    "\n",
    "## Notebook with no parameters\n",
    "\n",
    "Notebooks not taking any parameter are execute only once.\n",
    "The output cell shows only two links, one for the template notebook \n",
    "and one for the executed notebook."
   ]
  },
  {
   "cell_type": "markdown",
   "metadata": {},
   "source": [
    "## Initial setup"
   ]
  },
  {
   "cell_type": "code",
   "execution_count": 1,
   "metadata": {},
   "outputs": [],
   "source": [
    "from notebook_runner import run_notebook, run_notebook_template"
   ]
  },
  {
   "cell_type": "markdown",
   "metadata": {
    "internals": {},
    "slideshow": {
     "slide_type": "-"
    }
   },
   "source": [
    "Here we keep track of all the libraries versions used for the execution."
   ]
  },
  {
   "cell_type": "code",
   "execution_count": 2,
   "metadata": {
    "internals": {},
    "slideshow": {
     "slide_type": "-"
    }
   },
   "outputs": [],
   "source": [
    "%load_ext version_information"
   ]
  },
  {
   "cell_type": "code",
   "execution_count": 3,
   "metadata": {
    "internals": {},
    "slideshow": {
     "slide_type": "-"
    }
   },
   "outputs": [
    {
     "name": "stdout",
     "output_type": "stream",
     "text": [
      " - Optimized (cython) burst search loaded.\n",
      " - Optimized (cython) photon counting loaded.\n",
      "--------------------------------------------------------------\n",
      " You are running FRETBursts (version 0.5.9).\n",
      "\n",
      " If you use this software please cite the following paper:\n",
      "\n",
      "   FRETBursts: An Open Source Toolkit for Analysis of Freely-Diffusing Single-Molecule FRET\n",
      "   Ingargiola et al. (2016). http://dx.doi.org/10.1371/journal.pone.0160716 \n",
      "\n",
      "--------------------------------------------------------------\n"
     ]
    },
    {
     "data": {
      "application/json": {
       "Software versions": [
        {
         "module": "Python",
         "version": "3.5.2 64bit [GCC 4.2.1 Compatible Apple LLVM 4.2 (clang-425.0.28)]"
        },
        {
         "module": "IPython",
         "version": "5.1.0"
        },
        {
         "module": "OS",
         "version": "Darwin 14.5.0 x86_64 i386 64bit"
        },
        {
         "module": "numpy",
         "version": "1.11.2"
        },
        {
         "module": "scipy",
         "version": "0.18.1"
        },
        {
         "module": "matplotlib",
         "version": "1.5.3"
        },
        {
         "module": "tables",
         "version": "3.2.3.1"
        },
        {
         "module": "pandas",
         "version": "0.19.0"
        },
        {
         "module": "lmfit",
         "version": "0.9.5"
        },
        {
         "module": "seaborn",
         "version": "0.7.1"
        },
        {
         "module": "fretbursts",
         "version": "0.5.9"
        }
       ]
      },
      "text/html": [
       "<table><tr><th>Software</th><th>Version</th></tr><tr><td>Python</td><td>3.5.2 64bit [GCC 4.2.1 Compatible Apple LLVM 4.2 (clang-425.0.28)]</td></tr><tr><td>IPython</td><td>5.1.0</td></tr><tr><td>OS</td><td>Darwin 14.5.0 x86_64 i386 64bit</td></tr><tr><td>numpy</td><td>1.11.2</td></tr><tr><td>scipy</td><td>0.18.1</td></tr><tr><td>matplotlib</td><td>1.5.3</td></tr><tr><td>tables</td><td>3.2.3.1</td></tr><tr><td>pandas</td><td>0.19.0</td></tr><tr><td>lmfit</td><td>0.9.5</td></tr><tr><td>seaborn</td><td>0.7.1</td></tr><tr><td>fretbursts</td><td>0.5.9</td></tr><tr><td colspan='2'>Mon Mar 27 11:34:11 2017 PDT</td></tr></table>"
      ],
      "text/latex": [
       "\\begin{tabular}{|l|l|}\\hline\n",
       "{\\bf Software} & {\\bf Version} \\\\ \\hline\\hline\n",
       "Python & 3.5.2 64bit [GCC 4.2.1 Compatible Apple LLVM 4.2 (clang-425.0.28)] \\\\ \\hline\n",
       "IPython & 5.1.0 \\\\ \\hline\n",
       "OS & Darwin 14.5.0 x86\\_64 i386 64bit \\\\ \\hline\n",
       "numpy & 1.11.2 \\\\ \\hline\n",
       "scipy & 0.18.1 \\\\ \\hline\n",
       "matplotlib & 1.5.3 \\\\ \\hline\n",
       "tables & 3.2.3.1 \\\\ \\hline\n",
       "pandas & 0.19.0 \\\\ \\hline\n",
       "lmfit & 0.9.5 \\\\ \\hline\n",
       "seaborn & 0.7.1 \\\\ \\hline\n",
       "fretbursts & 0.5.9 \\\\ \\hline\n",
       "\\hline \\multicolumn{2}{|l|}{Mon Mar 27 11:34:11 2017 PDT} \\\\ \\hline\n",
       "\\end{tabular}\n"
      ],
      "text/plain": [
       "Software versions\n",
       "Python 3.5.2 64bit [GCC 4.2.1 Compatible Apple LLVM 4.2 (clang-425.0.28)]\n",
       "IPython 5.1.0\n",
       "OS Darwin 14.5.0 x86_64 i386 64bit\n",
       "numpy 1.11.2\n",
       "scipy 0.18.1\n",
       "matplotlib 1.5.3\n",
       "tables 3.2.3.1\n",
       "pandas 0.19.0\n",
       "lmfit 0.9.5\n",
       "seaborn 0.7.1\n",
       "fretbursts 0.5.9\n",
       "Mon Mar 27 11:34:11 2017 PDT"
      ]
     },
     "execution_count": 3,
     "metadata": {},
     "output_type": "execute_result"
    }
   ],
   "source": [
    "%version_information numpy, scipy, matplotlib, tables, pandas, lmfit, seaborn, fretbursts"
   ]
  },
  {
   "cell_type": "markdown",
   "metadata": {
    "internals": {},
    "slideshow": {
     "slide_type": "-"
    }
   },
   "source": [
    "# μs-ALEX Analysis\n",
    "\n",
    "## Raw Proximity Ratio\n",
    "\n",
    "We start the analyis by processing and fiting the raw PR values for the 5 us-ALEX measurements. \n",
    "The only burst correction here applied is the background correction.\n",
    "\n",
    "The same analysis is performed for different \n",
    "burst searches, as indicated in the notebook file name suffix:\n",
    "\n",
    "- **all-ph**: burst search on all photons\n",
    "- **Dex**: burst search on photons during Donor excitation periods\n",
    "- **DexDem**: burst search on photons during Donor excitation detected in the Donor channel (donor emission)\n",
    "- **AND-gate**: AND-gate burst search. The bursts are the intersection (in time) of burst from a \"Dex\" burst search and burst from a \"AexAem\" burst search."
   ]
  },
  {
   "cell_type": "code",
   "execution_count": 4,
   "metadata": {
    "internals": {},
    "slideshow": {
     "slide_type": "-"
    }
   },
   "outputs": [
    {
     "data": {
      "text/html": [
       "<b>Source Notebook</b>: <a href='usALEX-5samples-PR-raw.ipynb' target='_blank'>usALEX-5samples-PR-raw.ipynb</a><br>"
      ],
      "text/plain": [
       "/Users/anto/Google Drive/notebooks/multispot_paper/usALEX-5samples-PR-raw.ipynb"
      ]
     },
     "metadata": {},
     "output_type": "display_data"
    },
    {
     "data": {
      "text/html": [
       "<ul>"
      ],
      "text/plain": [
       "<IPython.core.display.HTML object>"
      ]
     },
     "metadata": {},
     "output_type": "display_data"
    },
    {
     "data": {
      "text/html": [
       "<li><b>Output Notebook</b> (7d): <a href='out_notebooks/usALEX-5samples-PR-raw-out-all-ph-7d.ipynb' target='_blank'>out_notebooks/usALEX-5samples-PR-raw-out-all-ph-7d.ipynb</a><br>"
      ],
      "text/plain": [
       "/Users/anto/Google Drive/notebooks/multispot_paper/out_notebooks/usALEX-5samples-PR-raw-out-all-ph-7d.ipynb"
      ]
     },
     "metadata": {},
     "output_type": "display_data"
    },
    {
     "data": {
      "text/html": [
       "<li><b>Output Notebook</b> (12d): <a href='out_notebooks/usALEX-5samples-PR-raw-out-all-ph-12d.ipynb' target='_blank'>out_notebooks/usALEX-5samples-PR-raw-out-all-ph-12d.ipynb</a><br>"
      ],
      "text/plain": [
       "/Users/anto/Google Drive/notebooks/multispot_paper/out_notebooks/usALEX-5samples-PR-raw-out-all-ph-12d.ipynb"
      ]
     },
     "metadata": {},
     "output_type": "display_data"
    },
    {
     "data": {
      "text/html": [
       "<li><b>Output Notebook</b> (17d): <a href='out_notebooks/usALEX-5samples-PR-raw-out-all-ph-17d.ipynb' target='_blank'>out_notebooks/usALEX-5samples-PR-raw-out-all-ph-17d.ipynb</a><br>"
      ],
      "text/plain": [
       "/Users/anto/Google Drive/notebooks/multispot_paper/out_notebooks/usALEX-5samples-PR-raw-out-all-ph-17d.ipynb"
      ]
     },
     "metadata": {},
     "output_type": "display_data"
    },
    {
     "data": {
      "text/html": [
       "<li><b>Output Notebook</b> (22d): <a href='out_notebooks/usALEX-5samples-PR-raw-out-all-ph-22d.ipynb' target='_blank'>out_notebooks/usALEX-5samples-PR-raw-out-all-ph-22d.ipynb</a><br>"
      ],
      "text/plain": [
       "/Users/anto/Google Drive/notebooks/multispot_paper/out_notebooks/usALEX-5samples-PR-raw-out-all-ph-22d.ipynb"
      ]
     },
     "metadata": {},
     "output_type": "display_data"
    },
    {
     "data": {
      "text/html": [
       "<li><b>Output Notebook</b> (27d): <a href='out_notebooks/usALEX-5samples-PR-raw-out-all-ph-27d.ipynb' target='_blank'>out_notebooks/usALEX-5samples-PR-raw-out-all-ph-27d.ipynb</a><br>"
      ],
      "text/plain": [
       "/Users/anto/Google Drive/notebooks/multispot_paper/out_notebooks/usALEX-5samples-PR-raw-out-all-ph-27d.ipynb"
      ]
     },
     "metadata": {},
     "output_type": "display_data"
    },
    {
     "data": {
      "text/html": [
       "</ul>"
      ],
      "text/plain": [
       "<IPython.core.display.HTML object>"
      ]
     },
     "metadata": {},
     "output_type": "display_data"
    },
    {
     "data": {
      "text/html": [
       "<div>\n",
       "<table border=\"1\" class=\"dataframe\">\n",
       "  <thead>\n",
       "    <tr style=\"text-align: right;\">\n",
       "      <th></th>\n",
       "      <th>n_bursts_all</th>\n",
       "      <th>n_bursts_do</th>\n",
       "      <th>n_bursts_fret</th>\n",
       "      <th>E_kde_w</th>\n",
       "      <th>E_gauss_w</th>\n",
       "      <th>E_gauss_w_sig</th>\n",
       "      <th>E_gauss_w_err</th>\n",
       "      <th>E_gauss_w_fiterr</th>\n",
       "      <th>S_kde</th>\n",
       "      <th>S_gauss</th>\n",
       "      <th>S_gauss_sig</th>\n",
       "      <th>S_gauss_err</th>\n",
       "      <th>S_gauss_fiterr</th>\n",
       "      <th>E_pr_do_kde</th>\n",
       "      <th>E_pr_do_hsm</th>\n",
       "      <th>E_pr_do_gauss</th>\n",
       "      <th>nt_mean</th>\n",
       "    </tr>\n",
       "    <tr>\n",
       "      <th>sample</th>\n",
       "      <th></th>\n",
       "      <th></th>\n",
       "      <th></th>\n",
       "      <th></th>\n",
       "      <th></th>\n",
       "      <th></th>\n",
       "      <th></th>\n",
       "      <th></th>\n",
       "      <th></th>\n",
       "      <th></th>\n",
       "      <th></th>\n",
       "      <th></th>\n",
       "      <th></th>\n",
       "      <th></th>\n",
       "      <th></th>\n",
       "      <th></th>\n",
       "      <th></th>\n",
       "    </tr>\n",
       "  </thead>\n",
       "  <tbody>\n",
       "    <tr>\n",
       "      <th>7d</th>\n",
       "      <td>1371</td>\n",
       "      <td>726</td>\n",
       "      <td>599</td>\n",
       "      <td>0.9340</td>\n",
       "      <td>0.9315</td>\n",
       "      <td>0.0545</td>\n",
       "      <td>0.0022</td>\n",
       "      <td>0.0016</td>\n",
       "      <td>0.5582</td>\n",
       "      <td>0.5616</td>\n",
       "      <td>0.0981</td>\n",
       "      <td>0.0040</td>\n",
       "      <td>0.0024</td>\n",
       "      <td>0.0978</td>\n",
       "      <td>0.0893</td>\n",
       "      <td>0.0998</td>\n",
       "      <td>22.2931</td>\n",
       "    </tr>\n",
       "    <tr>\n",
       "      <th>12d</th>\n",
       "      <td>1531</td>\n",
       "      <td>411</td>\n",
       "      <td>1083</td>\n",
       "      <td>0.7612</td>\n",
       "      <td>0.7498</td>\n",
       "      <td>0.0859</td>\n",
       "      <td>0.0026</td>\n",
       "      <td>0.0023</td>\n",
       "      <td>0.5848</td>\n",
       "      <td>0.5709</td>\n",
       "      <td>0.1038</td>\n",
       "      <td>0.0032</td>\n",
       "      <td>0.0035</td>\n",
       "      <td>0.1012</td>\n",
       "      <td>0.1193</td>\n",
       "      <td>0.0988</td>\n",
       "      <td>22.6536</td>\n",
       "    </tr>\n",
       "    <tr>\n",
       "      <th>17d</th>\n",
       "      <td>3018</td>\n",
       "      <td>560</td>\n",
       "      <td>2392</td>\n",
       "      <td>0.4914</td>\n",
       "      <td>0.4850</td>\n",
       "      <td>0.1019</td>\n",
       "      <td>0.0021</td>\n",
       "      <td>0.0018</td>\n",
       "      <td>0.5358</td>\n",
       "      <td>0.5584</td>\n",
       "      <td>0.1103</td>\n",
       "      <td>0.0023</td>\n",
       "      <td>0.0018</td>\n",
       "      <td>0.1008</td>\n",
       "      <td>0.0983</td>\n",
       "      <td>0.1031</td>\n",
       "      <td>23.1577</td>\n",
       "    </tr>\n",
       "    <tr>\n",
       "      <th>22d</th>\n",
       "      <td>2552</td>\n",
       "      <td>403</td>\n",
       "      <td>2045</td>\n",
       "      <td>0.2766</td>\n",
       "      <td>0.2799</td>\n",
       "      <td>0.0708</td>\n",
       "      <td>0.0016</td>\n",
       "      <td>0.0016</td>\n",
       "      <td>0.5628</td>\n",
       "      <td>0.5642</td>\n",
       "      <td>0.1129</td>\n",
       "      <td>0.0025</td>\n",
       "      <td>0.0019</td>\n",
       "      <td>0.0922</td>\n",
       "      <td>0.0886</td>\n",
       "      <td>0.0911</td>\n",
       "      <td>25.3736</td>\n",
       "    </tr>\n",
       "    <tr>\n",
       "      <th>27d</th>\n",
       "      <td>998</td>\n",
       "      <td>204</td>\n",
       "      <td>757</td>\n",
       "      <td>0.1958</td>\n",
       "      <td>0.1951</td>\n",
       "      <td>0.0586</td>\n",
       "      <td>0.0021</td>\n",
       "      <td>0.0010</td>\n",
       "      <td>0.5540</td>\n",
       "      <td>0.5834</td>\n",
       "      <td>0.1121</td>\n",
       "      <td>0.0041</td>\n",
       "      <td>0.0029</td>\n",
       "      <td>0.0820</td>\n",
       "      <td>0.0964</td>\n",
       "      <td>0.0887</td>\n",
       "      <td>19.5704</td>\n",
       "    </tr>\n",
       "  </tbody>\n",
       "</table>\n",
       "</div>"
      ],
      "text/plain": [
       "        n_bursts_all  n_bursts_do  n_bursts_fret  E_kde_w  E_gauss_w  \\\n",
       "sample                                                                 \n",
       "7d              1371          726            599   0.9340     0.9315   \n",
       "12d             1531          411           1083   0.7612     0.7498   \n",
       "17d             3018          560           2392   0.4914     0.4850   \n",
       "22d             2552          403           2045   0.2766     0.2799   \n",
       "27d              998          204            757   0.1958     0.1951   \n",
       "\n",
       "        E_gauss_w_sig  E_gauss_w_err  E_gauss_w_fiterr   S_kde  S_gauss  \\\n",
       "sample                                                                    \n",
       "7d             0.0545         0.0022            0.0016  0.5582   0.5616   \n",
       "12d            0.0859         0.0026            0.0023  0.5848   0.5709   \n",
       "17d            0.1019         0.0021            0.0018  0.5358   0.5584   \n",
       "22d            0.0708         0.0016            0.0016  0.5628   0.5642   \n",
       "27d            0.0586         0.0021            0.0010  0.5540   0.5834   \n",
       "\n",
       "        S_gauss_sig  S_gauss_err  S_gauss_fiterr  E_pr_do_kde  E_pr_do_hsm  \\\n",
       "sample                                                                       \n",
       "7d           0.0981       0.0040          0.0024       0.0978       0.0893   \n",
       "12d          0.1038       0.0032          0.0035       0.1012       0.1193   \n",
       "17d          0.1103       0.0023          0.0018       0.1008       0.0983   \n",
       "22d          0.1129       0.0025          0.0019       0.0922       0.0886   \n",
       "27d          0.1121       0.0041          0.0029       0.0820       0.0964   \n",
       "\n",
       "        E_pr_do_gauss  nt_mean  \n",
       "sample                          \n",
       "7d             0.0998  22.2931  \n",
       "12d            0.0988  22.6536  \n",
       "17d            0.1031  23.1577  \n",
       "22d            0.0911  25.3736  \n",
       "27d            0.0887  19.5704  "
      ]
     },
     "metadata": {},
     "output_type": "display_data"
    },
    {
     "data": {
      "text/html": [
       "<b>Download Data:</b> <a href='results/usALEX-5samples-PR-raw-all-ph.csv' target='_blank'>results/usALEX-5samples-PR-raw-all-ph.csv</a><br>"
      ],
      "text/plain": [
       "/Users/anto/Google Drive/notebooks/multispot_paper/results/usALEX-5samples-PR-raw-all-ph.csv"
      ]
     },
     "metadata": {},
     "output_type": "display_data"
    }
   ],
   "source": [
    "nb_name = 'usALEX-5samples-PR-raw'\n",
    "run_notebook_template(nb_name, ph_sel='all-ph')"
   ]
  },
  {
   "cell_type": "code",
   "execution_count": 5,
   "metadata": {
    "internals": {},
    "slideshow": {
     "slide_type": "-"
    }
   },
   "outputs": [
    {
     "data": {
      "text/html": [
       "<b>Source Notebook</b>: <a href='usALEX-5samples-PR-raw.ipynb' target='_blank'>usALEX-5samples-PR-raw.ipynb</a><br>"
      ],
      "text/plain": [
       "/Users/anto/Google Drive/notebooks/multispot_paper/usALEX-5samples-PR-raw.ipynb"
      ]
     },
     "metadata": {},
     "output_type": "display_data"
    },
    {
     "data": {
      "text/html": [
       "<ul>"
      ],
      "text/plain": [
       "<IPython.core.display.HTML object>"
      ]
     },
     "metadata": {},
     "output_type": "display_data"
    },
    {
     "data": {
      "text/html": [
       "<li><b>Output Notebook</b> (7d): <a href='out_notebooks/usALEX-5samples-PR-raw-out-DexDem-7d.ipynb' target='_blank'>out_notebooks/usALEX-5samples-PR-raw-out-DexDem-7d.ipynb</a><br>"
      ],
      "text/plain": [
       "/Users/anto/Google Drive/notebooks/multispot_paper/out_notebooks/usALEX-5samples-PR-raw-out-DexDem-7d.ipynb"
      ]
     },
     "metadata": {},
     "output_type": "display_data"
    },
    {
     "data": {
      "text/html": [
       "<li><b>Output Notebook</b> (12d): <a href='out_notebooks/usALEX-5samples-PR-raw-out-DexDem-12d.ipynb' target='_blank'>out_notebooks/usALEX-5samples-PR-raw-out-DexDem-12d.ipynb</a><br>"
      ],
      "text/plain": [
       "/Users/anto/Google Drive/notebooks/multispot_paper/out_notebooks/usALEX-5samples-PR-raw-out-DexDem-12d.ipynb"
      ]
     },
     "metadata": {},
     "output_type": "display_data"
    },
    {
     "data": {
      "text/html": [
       "<li><b>Output Notebook</b> (17d): <a href='out_notebooks/usALEX-5samples-PR-raw-out-DexDem-17d.ipynb' target='_blank'>out_notebooks/usALEX-5samples-PR-raw-out-DexDem-17d.ipynb</a><br>"
      ],
      "text/plain": [
       "/Users/anto/Google Drive/notebooks/multispot_paper/out_notebooks/usALEX-5samples-PR-raw-out-DexDem-17d.ipynb"
      ]
     },
     "metadata": {},
     "output_type": "display_data"
    },
    {
     "data": {
      "text/html": [
       "<li><b>Output Notebook</b> (22d): <a href='out_notebooks/usALEX-5samples-PR-raw-out-DexDem-22d.ipynb' target='_blank'>out_notebooks/usALEX-5samples-PR-raw-out-DexDem-22d.ipynb</a><br>"
      ],
      "text/plain": [
       "/Users/anto/Google Drive/notebooks/multispot_paper/out_notebooks/usALEX-5samples-PR-raw-out-DexDem-22d.ipynb"
      ]
     },
     "metadata": {},
     "output_type": "display_data"
    },
    {
     "data": {
      "text/html": [
       "<li><b>Output Notebook</b> (27d): <a href='out_notebooks/usALEX-5samples-PR-raw-out-DexDem-27d.ipynb' target='_blank'>out_notebooks/usALEX-5samples-PR-raw-out-DexDem-27d.ipynb</a><br>"
      ],
      "text/plain": [
       "/Users/anto/Google Drive/notebooks/multispot_paper/out_notebooks/usALEX-5samples-PR-raw-out-DexDem-27d.ipynb"
      ]
     },
     "metadata": {},
     "output_type": "display_data"
    },
    {
     "data": {
      "text/html": [
       "</ul>"
      ],
      "text/plain": [
       "<IPython.core.display.HTML object>"
      ]
     },
     "metadata": {},
     "output_type": "display_data"
    },
    {
     "data": {
      "text/html": [
       "<div>\n",
       "<table border=\"1\" class=\"dataframe\">\n",
       "  <thead>\n",
       "    <tr style=\"text-align: right;\">\n",
       "      <th></th>\n",
       "      <th>n_bursts_all</th>\n",
       "      <th>n_bursts_do</th>\n",
       "      <th>n_bursts_fret</th>\n",
       "      <th>E_kde_w</th>\n",
       "      <th>E_gauss_w</th>\n",
       "      <th>E_gauss_w_sig</th>\n",
       "      <th>E_gauss_w_err</th>\n",
       "      <th>E_gauss_w_fiterr</th>\n",
       "      <th>S_kde</th>\n",
       "      <th>S_gauss</th>\n",
       "      <th>S_gauss_sig</th>\n",
       "      <th>S_gauss_err</th>\n",
       "      <th>S_gauss_fiterr</th>\n",
       "      <th>E_pr_do_kde</th>\n",
       "      <th>E_pr_do_hsm</th>\n",
       "      <th>E_pr_do_gauss</th>\n",
       "      <th>nt_mean</th>\n",
       "    </tr>\n",
       "    <tr>\n",
       "      <th>sample</th>\n",
       "      <th></th>\n",
       "      <th></th>\n",
       "      <th></th>\n",
       "      <th></th>\n",
       "      <th></th>\n",
       "      <th></th>\n",
       "      <th></th>\n",
       "      <th></th>\n",
       "      <th></th>\n",
       "      <th></th>\n",
       "      <th></th>\n",
       "      <th></th>\n",
       "      <th></th>\n",
       "      <th></th>\n",
       "      <th></th>\n",
       "      <th></th>\n",
       "      <th></th>\n",
       "    </tr>\n",
       "  </thead>\n",
       "  <tbody>\n",
       "    <tr>\n",
       "      <th>7d</th>\n",
       "      <td>1686</td>\n",
       "      <td>1396</td>\n",
       "      <td>151</td>\n",
       "      <td>0.8430</td>\n",
       "      <td>0.7954</td>\n",
       "      <td>0.0898</td>\n",
       "      <td>0.0073</td>\n",
       "      <td>0.0078</td>\n",
       "      <td>0.6360</td>\n",
       "      <td>0.6018</td>\n",
       "      <td>0.0932</td>\n",
       "      <td>0.0076</td>\n",
       "      <td>0.0060</td>\n",
       "      <td>0.0954</td>\n",
       "      <td>0.0838</td>\n",
       "      <td>0.0921</td>\n",
       "      <td>28.1482</td>\n",
       "    </tr>\n",
       "    <tr>\n",
       "      <th>12d</th>\n",
       "      <td>1915</td>\n",
       "      <td>722</td>\n",
       "      <td>1092</td>\n",
       "      <td>0.7140</td>\n",
       "      <td>0.7068</td>\n",
       "      <td>0.0756</td>\n",
       "      <td>0.0023</td>\n",
       "      <td>0.0026</td>\n",
       "      <td>0.5592</td>\n",
       "      <td>0.5872</td>\n",
       "      <td>0.1020</td>\n",
       "      <td>0.0031</td>\n",
       "      <td>0.0033</td>\n",
       "      <td>0.0916</td>\n",
       "      <td>0.0870</td>\n",
       "      <td>0.0912</td>\n",
       "      <td>27.9703</td>\n",
       "    </tr>\n",
       "    <tr>\n",
       "      <th>17d</th>\n",
       "      <td>4501</td>\n",
       "      <td>1045</td>\n",
       "      <td>3276</td>\n",
       "      <td>0.4634</td>\n",
       "      <td>0.4477</td>\n",
       "      <td>0.1023</td>\n",
       "      <td>0.0018</td>\n",
       "      <td>0.0026</td>\n",
       "      <td>0.5702</td>\n",
       "      <td>0.5740</td>\n",
       "      <td>0.1094</td>\n",
       "      <td>0.0019</td>\n",
       "      <td>0.0018</td>\n",
       "      <td>0.0950</td>\n",
       "      <td>0.0956</td>\n",
       "      <td>0.0950</td>\n",
       "      <td>29.1528</td>\n",
       "    </tr>\n",
       "    <tr>\n",
       "      <th>22d</th>\n",
       "      <td>3456</td>\n",
       "      <td>580</td>\n",
       "      <td>2750</td>\n",
       "      <td>0.2642</td>\n",
       "      <td>0.2656</td>\n",
       "      <td>0.0671</td>\n",
       "      <td>0.0013</td>\n",
       "      <td>0.0013</td>\n",
       "      <td>0.5634</td>\n",
       "      <td>0.5707</td>\n",
       "      <td>0.1096</td>\n",
       "      <td>0.0021</td>\n",
       "      <td>0.0018</td>\n",
       "      <td>0.0810</td>\n",
       "      <td>0.0846</td>\n",
       "      <td>0.0887</td>\n",
       "      <td>31.9127</td>\n",
       "    </tr>\n",
       "    <tr>\n",
       "      <th>27d</th>\n",
       "      <td>1397</td>\n",
       "      <td>401</td>\n",
       "      <td>943</td>\n",
       "      <td>0.1810</td>\n",
       "      <td>0.1832</td>\n",
       "      <td>0.0540</td>\n",
       "      <td>0.0018</td>\n",
       "      <td>0.0007</td>\n",
       "      <td>0.6176</td>\n",
       "      <td>0.6015</td>\n",
       "      <td>0.1081</td>\n",
       "      <td>0.0035</td>\n",
       "      <td>0.0030</td>\n",
       "      <td>0.0798</td>\n",
       "      <td>0.0569</td>\n",
       "      <td>0.0819</td>\n",
       "      <td>23.2971</td>\n",
       "    </tr>\n",
       "  </tbody>\n",
       "</table>\n",
       "</div>"
      ],
      "text/plain": [
       "        n_bursts_all  n_bursts_do  n_bursts_fret  E_kde_w  E_gauss_w  \\\n",
       "sample                                                                 \n",
       "7d              1686         1396            151   0.8430     0.7954   \n",
       "12d             1915          722           1092   0.7140     0.7068   \n",
       "17d             4501         1045           3276   0.4634     0.4477   \n",
       "22d             3456          580           2750   0.2642     0.2656   \n",
       "27d             1397          401            943   0.1810     0.1832   \n",
       "\n",
       "        E_gauss_w_sig  E_gauss_w_err  E_gauss_w_fiterr   S_kde  S_gauss  \\\n",
       "sample                                                                    \n",
       "7d             0.0898         0.0073            0.0078  0.6360   0.6018   \n",
       "12d            0.0756         0.0023            0.0026  0.5592   0.5872   \n",
       "17d            0.1023         0.0018            0.0026  0.5702   0.5740   \n",
       "22d            0.0671         0.0013            0.0013  0.5634   0.5707   \n",
       "27d            0.0540         0.0018            0.0007  0.6176   0.6015   \n",
       "\n",
       "        S_gauss_sig  S_gauss_err  S_gauss_fiterr  E_pr_do_kde  E_pr_do_hsm  \\\n",
       "sample                                                                       \n",
       "7d           0.0932       0.0076          0.0060       0.0954       0.0838   \n",
       "12d          0.1020       0.0031          0.0033       0.0916       0.0870   \n",
       "17d          0.1094       0.0019          0.0018       0.0950       0.0956   \n",
       "22d          0.1096       0.0021          0.0018       0.0810       0.0846   \n",
       "27d          0.1081       0.0035          0.0030       0.0798       0.0569   \n",
       "\n",
       "        E_pr_do_gauss  nt_mean  \n",
       "sample                          \n",
       "7d             0.0921  28.1482  \n",
       "12d            0.0912  27.9703  \n",
       "17d            0.0950  29.1528  \n",
       "22d            0.0887  31.9127  \n",
       "27d            0.0819  23.2971  "
      ]
     },
     "metadata": {},
     "output_type": "display_data"
    },
    {
     "data": {
      "text/html": [
       "<b>Download Data:</b> <a href='results/usALEX-5samples-PR-raw-DexDem.csv' target='_blank'>results/usALEX-5samples-PR-raw-DexDem.csv</a><br>"
      ],
      "text/plain": [
       "/Users/anto/Google Drive/notebooks/multispot_paper/results/usALEX-5samples-PR-raw-DexDem.csv"
      ]
     },
     "metadata": {},
     "output_type": "display_data"
    }
   ],
   "source": [
    "nb_name = 'usALEX-5samples-PR-raw'\n",
    "run_notebook_template(nb_name, ph_sel='DexDem')"
   ]
  },
  {
   "cell_type": "code",
   "execution_count": 6,
   "metadata": {
    "internals": {},
    "slideshow": {
     "slide_type": "-"
    }
   },
   "outputs": [
    {
     "data": {
      "text/html": [
       "<b>Source Notebook</b>: <a href='usALEX-5samples-PR-raw.ipynb' target='_blank'>usALEX-5samples-PR-raw.ipynb</a><br>"
      ],
      "text/plain": [
       "/Users/anto/Google Drive/notebooks/multispot_paper/usALEX-5samples-PR-raw.ipynb"
      ]
     },
     "metadata": {},
     "output_type": "display_data"
    },
    {
     "data": {
      "text/html": [
       "<ul>"
      ],
      "text/plain": [
       "<IPython.core.display.HTML object>"
      ]
     },
     "metadata": {},
     "output_type": "display_data"
    },
    {
     "data": {
      "text/html": [
       "<li><b>Output Notebook</b> (7d): <a href='out_notebooks/usALEX-5samples-PR-raw-out-Dex-7d.ipynb' target='_blank'>out_notebooks/usALEX-5samples-PR-raw-out-Dex-7d.ipynb</a><br>"
      ],
      "text/plain": [
       "/Users/anto/Google Drive/notebooks/multispot_paper/out_notebooks/usALEX-5samples-PR-raw-out-Dex-7d.ipynb"
      ]
     },
     "metadata": {},
     "output_type": "display_data"
    },
    {
     "data": {
      "text/html": [
       "<li><b>Output Notebook</b> (12d): <a href='out_notebooks/usALEX-5samples-PR-raw-out-Dex-12d.ipynb' target='_blank'>out_notebooks/usALEX-5samples-PR-raw-out-Dex-12d.ipynb</a><br>"
      ],
      "text/plain": [
       "/Users/anto/Google Drive/notebooks/multispot_paper/out_notebooks/usALEX-5samples-PR-raw-out-Dex-12d.ipynb"
      ]
     },
     "metadata": {},
     "output_type": "display_data"
    },
    {
     "data": {
      "text/html": [
       "<li><b>Output Notebook</b> (17d): <a href='out_notebooks/usALEX-5samples-PR-raw-out-Dex-17d.ipynb' target='_blank'>out_notebooks/usALEX-5samples-PR-raw-out-Dex-17d.ipynb</a><br>"
      ],
      "text/plain": [
       "/Users/anto/Google Drive/notebooks/multispot_paper/out_notebooks/usALEX-5samples-PR-raw-out-Dex-17d.ipynb"
      ]
     },
     "metadata": {},
     "output_type": "display_data"
    },
    {
     "data": {
      "text/html": [
       "<li><b>Output Notebook</b> (22d): <a href='out_notebooks/usALEX-5samples-PR-raw-out-Dex-22d.ipynb' target='_blank'>out_notebooks/usALEX-5samples-PR-raw-out-Dex-22d.ipynb</a><br>"
      ],
      "text/plain": [
       "/Users/anto/Google Drive/notebooks/multispot_paper/out_notebooks/usALEX-5samples-PR-raw-out-Dex-22d.ipynb"
      ]
     },
     "metadata": {},
     "output_type": "display_data"
    },
    {
     "data": {
      "text/html": [
       "<li><b>Output Notebook</b> (27d): <a href='out_notebooks/usALEX-5samples-PR-raw-out-Dex-27d.ipynb' target='_blank'>out_notebooks/usALEX-5samples-PR-raw-out-Dex-27d.ipynb</a><br>"
      ],
      "text/plain": [
       "/Users/anto/Google Drive/notebooks/multispot_paper/out_notebooks/usALEX-5samples-PR-raw-out-Dex-27d.ipynb"
      ]
     },
     "metadata": {},
     "output_type": "display_data"
    },
    {
     "data": {
      "text/html": [
       "</ul>"
      ],
      "text/plain": [
       "<IPython.core.display.HTML object>"
      ]
     },
     "metadata": {},
     "output_type": "display_data"
    },
    {
     "data": {
      "text/html": [
       "<div>\n",
       "<table border=\"1\" class=\"dataframe\">\n",
       "  <thead>\n",
       "    <tr style=\"text-align: right;\">\n",
       "      <th></th>\n",
       "      <th>n_bursts_all</th>\n",
       "      <th>n_bursts_do</th>\n",
       "      <th>n_bursts_fret</th>\n",
       "      <th>E_kde_w</th>\n",
       "      <th>E_gauss_w</th>\n",
       "      <th>E_gauss_w_sig</th>\n",
       "      <th>E_gauss_w_err</th>\n",
       "      <th>E_gauss_w_fiterr</th>\n",
       "      <th>S_kde</th>\n",
       "      <th>S_gauss</th>\n",
       "      <th>S_gauss_sig</th>\n",
       "      <th>S_gauss_err</th>\n",
       "      <th>S_gauss_fiterr</th>\n",
       "      <th>E_pr_do_kde</th>\n",
       "      <th>E_pr_do_hsm</th>\n",
       "      <th>E_pr_do_gauss</th>\n",
       "      <th>nt_mean</th>\n",
       "    </tr>\n",
       "    <tr>\n",
       "      <th>sample</th>\n",
       "      <th></th>\n",
       "      <th></th>\n",
       "      <th></th>\n",
       "      <th></th>\n",
       "      <th></th>\n",
       "      <th></th>\n",
       "      <th></th>\n",
       "      <th></th>\n",
       "      <th></th>\n",
       "      <th></th>\n",
       "      <th></th>\n",
       "      <th></th>\n",
       "      <th></th>\n",
       "      <th></th>\n",
       "      <th></th>\n",
       "      <th></th>\n",
       "      <th></th>\n",
       "    </tr>\n",
       "  </thead>\n",
       "  <tbody>\n",
       "    <tr>\n",
       "      <th>7d</th>\n",
       "      <td>1654</td>\n",
       "      <td>956</td>\n",
       "      <td>641</td>\n",
       "      <td>0.9338</td>\n",
       "      <td>0.9278</td>\n",
       "      <td>0.0539</td>\n",
       "      <td>0.0021</td>\n",
       "      <td>0.0024</td>\n",
       "      <td>0.5750</td>\n",
       "      <td>0.5768</td>\n",
       "      <td>0.1009</td>\n",
       "      <td>0.0040</td>\n",
       "      <td>0.0024</td>\n",
       "      <td>0.1000</td>\n",
       "      <td>0.0900</td>\n",
       "      <td>0.1041</td>\n",
       "      <td>23.0420</td>\n",
       "    </tr>\n",
       "    <tr>\n",
       "      <th>12d</th>\n",
       "      <td>1692</td>\n",
       "      <td>486</td>\n",
       "      <td>1157</td>\n",
       "      <td>0.7508</td>\n",
       "      <td>0.7489</td>\n",
       "      <td>0.0839</td>\n",
       "      <td>0.0025</td>\n",
       "      <td>0.0015</td>\n",
       "      <td>0.5974</td>\n",
       "      <td>0.5885</td>\n",
       "      <td>0.1045</td>\n",
       "      <td>0.0031</td>\n",
       "      <td>0.0026</td>\n",
       "      <td>0.0998</td>\n",
       "      <td>0.0981</td>\n",
       "      <td>0.1021</td>\n",
       "      <td>23.5048</td>\n",
       "    </tr>\n",
       "    <tr>\n",
       "      <th>17d</th>\n",
       "      <td>3459</td>\n",
       "      <td>766</td>\n",
       "      <td>2588</td>\n",
       "      <td>0.4906</td>\n",
       "      <td>0.4807</td>\n",
       "      <td>0.1018</td>\n",
       "      <td>0.0020</td>\n",
       "      <td>0.0021</td>\n",
       "      <td>0.5740</td>\n",
       "      <td>0.5835</td>\n",
       "      <td>0.1084</td>\n",
       "      <td>0.0021</td>\n",
       "      <td>0.0022</td>\n",
       "      <td>0.1054</td>\n",
       "      <td>0.1200</td>\n",
       "      <td>0.1089</td>\n",
       "      <td>23.0631</td>\n",
       "    </tr>\n",
       "    <tr>\n",
       "      <th>22d</th>\n",
       "      <td>2798</td>\n",
       "      <td>501</td>\n",
       "      <td>2181</td>\n",
       "      <td>0.2752</td>\n",
       "      <td>0.2804</td>\n",
       "      <td>0.0679</td>\n",
       "      <td>0.0015</td>\n",
       "      <td>0.0018</td>\n",
       "      <td>0.5768</td>\n",
       "      <td>0.5834</td>\n",
       "      <td>0.1102</td>\n",
       "      <td>0.0024</td>\n",
       "      <td>0.0022</td>\n",
       "      <td>0.0962</td>\n",
       "      <td>0.0742</td>\n",
       "      <td>0.1047</td>\n",
       "      <td>26.6318</td>\n",
       "    </tr>\n",
       "    <tr>\n",
       "      <th>27d</th>\n",
       "      <td>1146</td>\n",
       "      <td>316</td>\n",
       "      <td>792</td>\n",
       "      <td>0.1944</td>\n",
       "      <td>0.1947</td>\n",
       "      <td>0.0572</td>\n",
       "      <td>0.0020</td>\n",
       "      <td>0.0010</td>\n",
       "      <td>0.5786</td>\n",
       "      <td>0.6054</td>\n",
       "      <td>0.1087</td>\n",
       "      <td>0.0039</td>\n",
       "      <td>0.0034</td>\n",
       "      <td>0.0904</td>\n",
       "      <td>0.0916</td>\n",
       "      <td>0.0940</td>\n",
       "      <td>19.8821</td>\n",
       "    </tr>\n",
       "  </tbody>\n",
       "</table>\n",
       "</div>"
      ],
      "text/plain": [
       "        n_bursts_all  n_bursts_do  n_bursts_fret  E_kde_w  E_gauss_w  \\\n",
       "sample                                                                 \n",
       "7d              1654          956            641   0.9338     0.9278   \n",
       "12d             1692          486           1157   0.7508     0.7489   \n",
       "17d             3459          766           2588   0.4906     0.4807   \n",
       "22d             2798          501           2181   0.2752     0.2804   \n",
       "27d             1146          316            792   0.1944     0.1947   \n",
       "\n",
       "        E_gauss_w_sig  E_gauss_w_err  E_gauss_w_fiterr   S_kde  S_gauss  \\\n",
       "sample                                                                    \n",
       "7d             0.0539         0.0021            0.0024  0.5750   0.5768   \n",
       "12d            0.0839         0.0025            0.0015  0.5974   0.5885   \n",
       "17d            0.1018         0.0020            0.0021  0.5740   0.5835   \n",
       "22d            0.0679         0.0015            0.0018  0.5768   0.5834   \n",
       "27d            0.0572         0.0020            0.0010  0.5786   0.6054   \n",
       "\n",
       "        S_gauss_sig  S_gauss_err  S_gauss_fiterr  E_pr_do_kde  E_pr_do_hsm  \\\n",
       "sample                                                                       \n",
       "7d           0.1009       0.0040          0.0024       0.1000       0.0900   \n",
       "12d          0.1045       0.0031          0.0026       0.0998       0.0981   \n",
       "17d          0.1084       0.0021          0.0022       0.1054       0.1200   \n",
       "22d          0.1102       0.0024          0.0022       0.0962       0.0742   \n",
       "27d          0.1087       0.0039          0.0034       0.0904       0.0916   \n",
       "\n",
       "        E_pr_do_gauss  nt_mean  \n",
       "sample                          \n",
       "7d             0.1041  23.0420  \n",
       "12d            0.1021  23.5048  \n",
       "17d            0.1089  23.0631  \n",
       "22d            0.1047  26.6318  \n",
       "27d            0.0940  19.8821  "
      ]
     },
     "metadata": {},
     "output_type": "display_data"
    },
    {
     "data": {
      "text/html": [
       "<b>Download Data:</b> <a href='results/usALEX-5samples-PR-raw-Dex.csv' target='_blank'>results/usALEX-5samples-PR-raw-Dex.csv</a><br>"
      ],
      "text/plain": [
       "/Users/anto/Google Drive/notebooks/multispot_paper/results/usALEX-5samples-PR-raw-Dex.csv"
      ]
     },
     "metadata": {},
     "output_type": "display_data"
    }
   ],
   "source": [
    "nb_name = 'usALEX-5samples-PR-raw'\n",
    "run_notebook_template(nb_name, ph_sel='Dex')"
   ]
  },
  {
   "cell_type": "code",
   "execution_count": 7,
   "metadata": {
    "internals": {},
    "scrolled": false,
    "slideshow": {
     "slide_type": "-"
    }
   },
   "outputs": [
    {
     "data": {
      "text/html": [
       "<b>Source Notebook</b>: <a href='usALEX-5samples-PR-raw-AND-gate.ipynb' target='_blank'>usALEX-5samples-PR-raw-AND-gate.ipynb</a><br>"
      ],
      "text/plain": [
       "/Users/anto/Google Drive/notebooks/multispot_paper/usALEX-5samples-PR-raw-AND-gate.ipynb"
      ]
     },
     "metadata": {},
     "output_type": "display_data"
    },
    {
     "data": {
      "text/html": [
       "<ul>"
      ],
      "text/plain": [
       "<IPython.core.display.HTML object>"
      ]
     },
     "metadata": {},
     "output_type": "display_data"
    },
    {
     "data": {
      "text/html": [
       "<li><b>Output Notebook</b> (7d): <a href='out_notebooks/usALEX-5samples-PR-raw-AND-gate-out-7d.ipynb' target='_blank'>out_notebooks/usALEX-5samples-PR-raw-AND-gate-out-7d.ipynb</a><br>"
      ],
      "text/plain": [
       "/Users/anto/Google Drive/notebooks/multispot_paper/out_notebooks/usALEX-5samples-PR-raw-AND-gate-out-7d.ipynb"
      ]
     },
     "metadata": {},
     "output_type": "display_data"
    },
    {
     "data": {
      "text/html": [
       "<li><b>Output Notebook</b> (12d): <a href='out_notebooks/usALEX-5samples-PR-raw-AND-gate-out-12d.ipynb' target='_blank'>out_notebooks/usALEX-5samples-PR-raw-AND-gate-out-12d.ipynb</a><br>"
      ],
      "text/plain": [
       "/Users/anto/Google Drive/notebooks/multispot_paper/out_notebooks/usALEX-5samples-PR-raw-AND-gate-out-12d.ipynb"
      ]
     },
     "metadata": {},
     "output_type": "display_data"
    },
    {
     "data": {
      "text/html": [
       "<li><b>Output Notebook</b> (17d): <a href='out_notebooks/usALEX-5samples-PR-raw-AND-gate-out-17d.ipynb' target='_blank'>out_notebooks/usALEX-5samples-PR-raw-AND-gate-out-17d.ipynb</a><br>"
      ],
      "text/plain": [
       "/Users/anto/Google Drive/notebooks/multispot_paper/out_notebooks/usALEX-5samples-PR-raw-AND-gate-out-17d.ipynb"
      ]
     },
     "metadata": {},
     "output_type": "display_data"
    },
    {
     "data": {
      "text/html": [
       "<li><b>Output Notebook</b> (22d): <a href='out_notebooks/usALEX-5samples-PR-raw-AND-gate-out-22d.ipynb' target='_blank'>out_notebooks/usALEX-5samples-PR-raw-AND-gate-out-22d.ipynb</a><br>"
      ],
      "text/plain": [
       "/Users/anto/Google Drive/notebooks/multispot_paper/out_notebooks/usALEX-5samples-PR-raw-AND-gate-out-22d.ipynb"
      ]
     },
     "metadata": {},
     "output_type": "display_data"
    },
    {
     "data": {
      "text/html": [
       "<li><b>Output Notebook</b> (27d): <a href='out_notebooks/usALEX-5samples-PR-raw-AND-gate-out-27d.ipynb' target='_blank'>out_notebooks/usALEX-5samples-PR-raw-AND-gate-out-27d.ipynb</a><br>"
      ],
      "text/plain": [
       "/Users/anto/Google Drive/notebooks/multispot_paper/out_notebooks/usALEX-5samples-PR-raw-AND-gate-out-27d.ipynb"
      ]
     },
     "metadata": {},
     "output_type": "display_data"
    },
    {
     "data": {
      "text/html": [
       "</ul>"
      ],
      "text/plain": [
       "<IPython.core.display.HTML object>"
      ]
     },
     "metadata": {},
     "output_type": "display_data"
    },
    {
     "data": {
      "text/html": [
       "<div>\n",
       "<table border=\"1\" class=\"dataframe\">\n",
       "  <thead>\n",
       "    <tr style=\"text-align: right;\">\n",
       "      <th></th>\n",
       "      <th>n_bursts_all</th>\n",
       "      <th>n_bursts_fret</th>\n",
       "      <th>E_kde_w</th>\n",
       "      <th>E_gauss_w</th>\n",
       "      <th>E_gauss_w_sig</th>\n",
       "      <th>E_gauss_w_err</th>\n",
       "      <th>E_gauss_w_fiterr</th>\n",
       "      <th>S_kde</th>\n",
       "      <th>S_gauss</th>\n",
       "      <th>S_gauss_sig</th>\n",
       "      <th>S_gauss_err</th>\n",
       "      <th>S_gauss_fiterr</th>\n",
       "      <th>nt_mean</th>\n",
       "    </tr>\n",
       "    <tr>\n",
       "      <th>sample</th>\n",
       "      <th></th>\n",
       "      <th></th>\n",
       "      <th></th>\n",
       "      <th></th>\n",
       "      <th></th>\n",
       "      <th></th>\n",
       "      <th></th>\n",
       "      <th></th>\n",
       "      <th></th>\n",
       "      <th></th>\n",
       "      <th></th>\n",
       "      <th></th>\n",
       "      <th></th>\n",
       "    </tr>\n",
       "  </thead>\n",
       "  <tbody>\n",
       "    <tr>\n",
       "      <th>7d</th>\n",
       "      <td>667</td>\n",
       "      <td>611</td>\n",
       "      <td>0.9358</td>\n",
       "      <td>0.9296</td>\n",
       "      <td>0.0533</td>\n",
       "      <td>0.0022</td>\n",
       "      <td>0.0021</td>\n",
       "      <td>0.5766</td>\n",
       "      <td>0.5709</td>\n",
       "      <td>0.0981</td>\n",
       "      <td>0.0040</td>\n",
       "      <td>0.0022</td>\n",
       "      <td>23.1869</td>\n",
       "    </tr>\n",
       "    <tr>\n",
       "      <th>12d</th>\n",
       "      <td>1130</td>\n",
       "      <td>1104</td>\n",
       "      <td>0.7524</td>\n",
       "      <td>0.7509</td>\n",
       "      <td>0.0810</td>\n",
       "      <td>0.0024</td>\n",
       "      <td>0.0016</td>\n",
       "      <td>0.5920</td>\n",
       "      <td>0.5828</td>\n",
       "      <td>0.1010</td>\n",
       "      <td>0.0030</td>\n",
       "      <td>0.0023</td>\n",
       "      <td>23.4090</td>\n",
       "    </tr>\n",
       "    <tr>\n",
       "      <th>17d</th>\n",
       "      <td>2479</td>\n",
       "      <td>2455</td>\n",
       "      <td>0.4912</td>\n",
       "      <td>0.4824</td>\n",
       "      <td>0.0992</td>\n",
       "      <td>0.0020</td>\n",
       "      <td>0.0016</td>\n",
       "      <td>0.5742</td>\n",
       "      <td>0.5759</td>\n",
       "      <td>0.1030</td>\n",
       "      <td>0.0021</td>\n",
       "      <td>0.0017</td>\n",
       "      <td>23.0325</td>\n",
       "    </tr>\n",
       "    <tr>\n",
       "      <th>22d</th>\n",
       "      <td>2197</td>\n",
       "      <td>2110</td>\n",
       "      <td>0.2746</td>\n",
       "      <td>0.2796</td>\n",
       "      <td>0.0686</td>\n",
       "      <td>0.0015</td>\n",
       "      <td>0.0020</td>\n",
       "      <td>0.5698</td>\n",
       "      <td>0.5779</td>\n",
       "      <td>0.1085</td>\n",
       "      <td>0.0024</td>\n",
       "      <td>0.0022</td>\n",
       "      <td>26.5659</td>\n",
       "    </tr>\n",
       "    <tr>\n",
       "      <th>27d</th>\n",
       "      <td>781</td>\n",
       "      <td>760</td>\n",
       "      <td>0.1940</td>\n",
       "      <td>0.1936</td>\n",
       "      <td>0.0584</td>\n",
       "      <td>0.0021</td>\n",
       "      <td>0.0013</td>\n",
       "      <td>0.5808</td>\n",
       "      <td>0.5998</td>\n",
       "      <td>0.1063</td>\n",
       "      <td>0.0039</td>\n",
       "      <td>0.0027</td>\n",
       "      <td>19.6871</td>\n",
       "    </tr>\n",
       "  </tbody>\n",
       "</table>\n",
       "</div>"
      ],
      "text/plain": [
       "        n_bursts_all  n_bursts_fret  E_kde_w  E_gauss_w  E_gauss_w_sig  \\\n",
       "sample                                                                   \n",
       "7d               667            611   0.9358     0.9296         0.0533   \n",
       "12d             1130           1104   0.7524     0.7509         0.0810   \n",
       "17d             2479           2455   0.4912     0.4824         0.0992   \n",
       "22d             2197           2110   0.2746     0.2796         0.0686   \n",
       "27d              781            760   0.1940     0.1936         0.0584   \n",
       "\n",
       "        E_gauss_w_err  E_gauss_w_fiterr   S_kde  S_gauss  S_gauss_sig  \\\n",
       "sample                                                                  \n",
       "7d             0.0022            0.0021  0.5766   0.5709       0.0981   \n",
       "12d            0.0024            0.0016  0.5920   0.5828       0.1010   \n",
       "17d            0.0020            0.0016  0.5742   0.5759       0.1030   \n",
       "22d            0.0015            0.0020  0.5698   0.5779       0.1085   \n",
       "27d            0.0021            0.0013  0.5808   0.5998       0.1063   \n",
       "\n",
       "        S_gauss_err  S_gauss_fiterr  nt_mean  \n",
       "sample                                        \n",
       "7d           0.0040          0.0022  23.1869  \n",
       "12d          0.0030          0.0023  23.4090  \n",
       "17d          0.0021          0.0017  23.0325  \n",
       "22d          0.0024          0.0022  26.5659  \n",
       "27d          0.0039          0.0027  19.6871  "
      ]
     },
     "metadata": {},
     "output_type": "display_data"
    },
    {
     "data": {
      "text/html": [
       "<b>Download Data:</b> <a href='results/usALEX-5samples-PR-raw-AND-gate.csv' target='_blank'>results/usALEX-5samples-PR-raw-AND-gate.csv</a><br>"
      ],
      "text/plain": [
       "/Users/anto/Google Drive/notebooks/multispot_paper/results/usALEX-5samples-PR-raw-AND-gate.csv"
      ]
     },
     "metadata": {},
     "output_type": "display_data"
    }
   ],
   "source": [
    "nb_name = 'usALEX-5samples-PR-raw-AND-gate'\n",
    "run_notebook_template(nb_name)"
   ]
  },
  {
   "cell_type": "markdown",
   "metadata": {
    "internals": {},
    "slideshow": {
     "slide_type": "-"
    }
   },
   "source": [
    "## μs-ALEX: Leakage coefficient"
   ]
  },
  {
   "cell_type": "markdown",
   "metadata": {
    "internals": {},
    "slideshow": {
     "slide_type": "-"
    }
   },
   "source": [
    "Here we estimate the donor leakage coefficient from the Donor-only peak positions in the Raw PR histograms.\n",
    "\n",
    "The computation is performed by the following notebook:"
   ]
  },
  {
   "cell_type": "code",
   "execution_count": 8,
   "metadata": {
    "internals": {},
    "slideshow": {
     "slide_type": "-"
    }
   },
   "outputs": [
    {
     "data": {
      "text/html": [
       "<b>Source Notebook</b>: <a href='usALEX - Corrections - Leakage fit.ipynb' target='_blank'>usALEX - Corrections - Leakage fit.ipynb</a><br>"
      ],
      "text/plain": [
       "/Users/anto/Google Drive/notebooks/multispot_paper/usALEX - Corrections - Leakage fit.ipynb"
      ]
     },
     "metadata": {},
     "output_type": "display_data"
    },
    {
     "data": {
      "text/html": [
       "<b>Output Notebook</b>: <a href='out_notebooks/usALEX - Corrections - Leakage fit-out.ipynb' target='_blank'>out_notebooks/usALEX - Corrections - Leakage fit-out.ipynb</a><br>"
      ],
      "text/plain": [
       "/Users/anto/Google Drive/notebooks/multispot_paper/out_notebooks/usALEX - Corrections - Leakage fit-out.ipynb"
      ]
     },
     "metadata": {},
     "output_type": "display_data"
    }
   ],
   "source": [
    "run_notebook('usALEX - Corrections - Leakage fit')"
   ]
  },
  {
   "cell_type": "markdown",
   "metadata": {},
   "source": [
    "The previous notebook uses data from [`usALEX-5samples-PR-raw-DexDem.csv`](results/usALEX-5samples-PR-raw-DexDem.csv)\n",
    "and saves:\n",
    "\n",
    "- [table_usalex_5samples_leakage_coeff.csv](results/table_usalex_5samples_leakage_coeff.csv)\n",
    "- [usALEX - leakage coefficient DexDem.csv](results/usALEX - leakage coefficient DexDem.csv)"
   ]
  },
  {
   "cell_type": "markdown",
   "metadata": {
    "internals": {},
    "slideshow": {
     "slide_type": "-"
    }
   },
   "source": [
    "## μs-ALEX: Direct excitation\n",
    "\n",
    "In this section we extract the direct excitation parameter by fitting the S peak position of the Acceptor-only population.\n",
    "\n",
    "For comparison 2 burst searches are performed:\n",
    "\n",
    "- **all-ph**: burst search on all photons\n",
    "- **AexAem**: burst search on photons during Acceptor excitation detected by the Acceptor detector (acceptor emission).\n",
    "\n",
    "The **all-ph** burst search provides less accurate results and is performed only to show the improvement of the more appropriate **AexAem** burst search."
   ]
  },
  {
   "cell_type": "markdown",
   "metadata": {
    "internals": {},
    "slideshow": {
     "slide_type": "-"
    }
   },
   "source": [
    "### Fitting of the S peak"
   ]
  },
  {
   "cell_type": "code",
   "execution_count": 9,
   "metadata": {
    "internals": {},
    "slideshow": {
     "slide_type": "-"
    }
   },
   "outputs": [
    {
     "data": {
      "text/html": [
       "<b>Source Notebook</b>: <a href='usALEX-5samples-PR-raw-dir_ex_aa-fit.ipynb' target='_blank'>usALEX-5samples-PR-raw-dir_ex_aa-fit.ipynb</a><br>"
      ],
      "text/plain": [
       "/Users/anto/Google Drive/notebooks/multispot_paper/usALEX-5samples-PR-raw-dir_ex_aa-fit.ipynb"
      ]
     },
     "metadata": {},
     "output_type": "display_data"
    },
    {
     "data": {
      "text/html": [
       "<ul>"
      ],
      "text/plain": [
       "<IPython.core.display.HTML object>"
      ]
     },
     "metadata": {},
     "output_type": "display_data"
    },
    {
     "data": {
      "text/html": [
       "<li><b>Output Notebook</b> (7d): <a href='out_notebooks/usALEX-5samples-PR-raw-dir_ex_aa-fit-out-all-ph-7d.ipynb' target='_blank'>out_notebooks/usALEX-5samples-PR-raw-dir_ex_aa-fit-out-all-ph-7d.ipynb</a><br>"
      ],
      "text/plain": [
       "/Users/anto/Google Drive/notebooks/multispot_paper/out_notebooks/usALEX-5samples-PR-raw-dir_ex_aa-fit-out-all-ph-7d.ipynb"
      ]
     },
     "metadata": {},
     "output_type": "display_data"
    },
    {
     "data": {
      "text/html": [
       "<li><b>Output Notebook</b> (12d): <a href='out_notebooks/usALEX-5samples-PR-raw-dir_ex_aa-fit-out-all-ph-12d.ipynb' target='_blank'>out_notebooks/usALEX-5samples-PR-raw-dir_ex_aa-fit-out-all-ph-12d.ipynb</a><br>"
      ],
      "text/plain": [
       "/Users/anto/Google Drive/notebooks/multispot_paper/out_notebooks/usALEX-5samples-PR-raw-dir_ex_aa-fit-out-all-ph-12d.ipynb"
      ]
     },
     "metadata": {},
     "output_type": "display_data"
    },
    {
     "data": {
      "text/html": [
       "<li><b>Output Notebook</b> (17d): <a href='out_notebooks/usALEX-5samples-PR-raw-dir_ex_aa-fit-out-all-ph-17d.ipynb' target='_blank'>out_notebooks/usALEX-5samples-PR-raw-dir_ex_aa-fit-out-all-ph-17d.ipynb</a><br>"
      ],
      "text/plain": [
       "/Users/anto/Google Drive/notebooks/multispot_paper/out_notebooks/usALEX-5samples-PR-raw-dir_ex_aa-fit-out-all-ph-17d.ipynb"
      ]
     },
     "metadata": {},
     "output_type": "display_data"
    },
    {
     "data": {
      "text/html": [
       "<li><b>Output Notebook</b> (22d): <a href='out_notebooks/usALEX-5samples-PR-raw-dir_ex_aa-fit-out-all-ph-22d.ipynb' target='_blank'>out_notebooks/usALEX-5samples-PR-raw-dir_ex_aa-fit-out-all-ph-22d.ipynb</a><br>"
      ],
      "text/plain": [
       "/Users/anto/Google Drive/notebooks/multispot_paper/out_notebooks/usALEX-5samples-PR-raw-dir_ex_aa-fit-out-all-ph-22d.ipynb"
      ]
     },
     "metadata": {},
     "output_type": "display_data"
    },
    {
     "data": {
      "text/html": [
       "<li><b>Output Notebook</b> (27d): <a href='out_notebooks/usALEX-5samples-PR-raw-dir_ex_aa-fit-out-all-ph-27d.ipynb' target='_blank'>out_notebooks/usALEX-5samples-PR-raw-dir_ex_aa-fit-out-all-ph-27d.ipynb</a><br>"
      ],
      "text/plain": [
       "/Users/anto/Google Drive/notebooks/multispot_paper/out_notebooks/usALEX-5samples-PR-raw-dir_ex_aa-fit-out-all-ph-27d.ipynb"
      ]
     },
     "metadata": {},
     "output_type": "display_data"
    },
    {
     "data": {
      "text/html": [
       "</ul>"
      ],
      "text/plain": [
       "<IPython.core.display.HTML object>"
      ]
     },
     "metadata": {},
     "output_type": "display_data"
    },
    {
     "data": {
      "text/html": [
       "<div>\n",
       "<table border=\"1\" class=\"dataframe\">\n",
       "  <thead>\n",
       "    <tr style=\"text-align: right;\">\n",
       "      <th></th>\n",
       "      <th>n_bursts_aa</th>\n",
       "      <th>dir_ex_S1p</th>\n",
       "      <th>dir_ex_S_kde</th>\n",
       "      <th>dir_ex_S2p</th>\n",
       "      <th>dir_ex_S2pa</th>\n",
       "      <th>dir_ex_S2p_w1</th>\n",
       "      <th>dir_ex_S_kde_w1</th>\n",
       "      <th>dir_ex_S_kde_w4</th>\n",
       "      <th>dir_ex_S_kde_w5</th>\n",
       "      <th>dir_ex_S2p_w5</th>\n",
       "      <th>dir_ex_S2p_w5a</th>\n",
       "      <th>S_2peaks_w5</th>\n",
       "      <th>S_2peaks_w5_fiterr</th>\n",
       "    </tr>\n",
       "    <tr>\n",
       "      <th>sample</th>\n",
       "      <th></th>\n",
       "      <th></th>\n",
       "      <th></th>\n",
       "      <th></th>\n",
       "      <th></th>\n",
       "      <th></th>\n",
       "      <th></th>\n",
       "      <th></th>\n",
       "      <th></th>\n",
       "      <th></th>\n",
       "      <th></th>\n",
       "      <th></th>\n",
       "      <th></th>\n",
       "    </tr>\n",
       "  </thead>\n",
       "  <tbody>\n",
       "    <tr>\n",
       "      <th>7d</th>\n",
       "      <td>393</td>\n",
       "      <td>0.0552</td>\n",
       "      <td>0.0679</td>\n",
       "      <td>0.0716</td>\n",
       "      <td>0.0481</td>\n",
       "      <td>0.0640</td>\n",
       "      <td>0.0679</td>\n",
       "      <td>0.0625</td>\n",
       "      <td>0.0613</td>\n",
       "      <td>0.0551</td>\n",
       "      <td>0.0468</td>\n",
       "      <td>0.0522</td>\n",
       "      <td>0.0012</td>\n",
       "    </tr>\n",
       "    <tr>\n",
       "      <th>12d</th>\n",
       "      <td>169</td>\n",
       "      <td>0.0485</td>\n",
       "      <td>0.0730</td>\n",
       "      <td>0.0988</td>\n",
       "      <td>0.0468</td>\n",
       "      <td>0.0920</td>\n",
       "      <td>0.0727</td>\n",
       "      <td>0.0695</td>\n",
       "      <td>0.0677</td>\n",
       "      <td>0.0763</td>\n",
       "      <td>0.0422</td>\n",
       "      <td>0.0709</td>\n",
       "      <td>0.0040</td>\n",
       "    </tr>\n",
       "    <tr>\n",
       "      <th>17d</th>\n",
       "      <td>371</td>\n",
       "      <td>0.0488</td>\n",
       "      <td>0.0844</td>\n",
       "      <td>0.1066</td>\n",
       "      <td>0.0603</td>\n",
       "      <td>0.0947</td>\n",
       "      <td>0.0839</td>\n",
       "      <td>0.0725</td>\n",
       "      <td>0.0652</td>\n",
       "      <td>0.0725</td>\n",
       "      <td>0.0463</td>\n",
       "      <td>0.0676</td>\n",
       "      <td>0.0028</td>\n",
       "    </tr>\n",
       "    <tr>\n",
       "      <th>22d</th>\n",
       "      <td>331</td>\n",
       "      <td>0.0478</td>\n",
       "      <td>0.0785</td>\n",
       "      <td>0.0900</td>\n",
       "      <td>0.0586</td>\n",
       "      <td>0.0832</td>\n",
       "      <td>0.0778</td>\n",
       "      <td>0.0704</td>\n",
       "      <td>0.0645</td>\n",
       "      <td>0.0736</td>\n",
       "      <td>0.0511</td>\n",
       "      <td>0.0686</td>\n",
       "      <td>0.0028</td>\n",
       "    </tr>\n",
       "    <tr>\n",
       "      <th>27d</th>\n",
       "      <td>61</td>\n",
       "      <td>0.0355</td>\n",
       "      <td>0.0404</td>\n",
       "      <td>0.1212</td>\n",
       "      <td>0.0207</td>\n",
       "      <td>0.0755</td>\n",
       "      <td>0.0404</td>\n",
       "      <td>0.0454</td>\n",
       "      <td>0.0326</td>\n",
       "      <td>0.0356</td>\n",
       "      <td>0.0034</td>\n",
       "      <td>0.0344</td>\n",
       "      <td>0.0043</td>\n",
       "    </tr>\n",
       "  </tbody>\n",
       "</table>\n",
       "</div>"
      ],
      "text/plain": [
       "        n_bursts_aa  dir_ex_S1p  dir_ex_S_kde  dir_ex_S2p  dir_ex_S2pa  \\\n",
       "sample                                                                   \n",
       "7d              393      0.0552        0.0679      0.0716       0.0481   \n",
       "12d             169      0.0485        0.0730      0.0988       0.0468   \n",
       "17d             371      0.0488        0.0844      0.1066       0.0603   \n",
       "22d             331      0.0478        0.0785      0.0900       0.0586   \n",
       "27d              61      0.0355        0.0404      0.1212       0.0207   \n",
       "\n",
       "        dir_ex_S2p_w1  dir_ex_S_kde_w1  dir_ex_S_kde_w4  dir_ex_S_kde_w5  \\\n",
       "sample                                                                     \n",
       "7d             0.0640           0.0679           0.0625           0.0613   \n",
       "12d            0.0920           0.0727           0.0695           0.0677   \n",
       "17d            0.0947           0.0839           0.0725           0.0652   \n",
       "22d            0.0832           0.0778           0.0704           0.0645   \n",
       "27d            0.0755           0.0404           0.0454           0.0326   \n",
       "\n",
       "        dir_ex_S2p_w5  dir_ex_S2p_w5a  S_2peaks_w5  S_2peaks_w5_fiterr  \n",
       "sample                                                                  \n",
       "7d             0.0551          0.0468       0.0522              0.0012  \n",
       "12d            0.0763          0.0422       0.0709              0.0040  \n",
       "17d            0.0725          0.0463       0.0676              0.0028  \n",
       "22d            0.0736          0.0511       0.0686              0.0028  \n",
       "27d            0.0356          0.0034       0.0344              0.0043  "
      ]
     },
     "metadata": {},
     "output_type": "display_data"
    },
    {
     "data": {
      "text/html": [
       "<b>Download Data:</b> <a href='results/usALEX-5samples-PR-raw-dir_ex_aa-fit-all-ph.csv' target='_blank'>results/usALEX-5samples-PR-raw-dir_ex_aa-fit-all-ph.csv</a><br>"
      ],
      "text/plain": [
       "/Users/anto/Google Drive/notebooks/multispot_paper/results/usALEX-5samples-PR-raw-dir_ex_aa-fit-all-ph.csv"
      ]
     },
     "metadata": {},
     "output_type": "display_data"
    }
   ],
   "source": [
    "nb_name = 'usALEX-5samples-PR-raw-dir_ex_aa-fit'\n",
    "run_notebook_template(nb_name, ph_sel='all-ph')"
   ]
  },
  {
   "cell_type": "code",
   "execution_count": 10,
   "metadata": {
    "internals": {},
    "slideshow": {
     "slide_type": "-"
    }
   },
   "outputs": [
    {
     "data": {
      "text/html": [
       "<b>Source Notebook</b>: <a href='usALEX-5samples-PR-raw-dir_ex_aa-fit.ipynb' target='_blank'>usALEX-5samples-PR-raw-dir_ex_aa-fit.ipynb</a><br>"
      ],
      "text/plain": [
       "/Users/anto/Google Drive/notebooks/multispot_paper/usALEX-5samples-PR-raw-dir_ex_aa-fit.ipynb"
      ]
     },
     "metadata": {},
     "output_type": "display_data"
    },
    {
     "data": {
      "text/html": [
       "<ul>"
      ],
      "text/plain": [
       "<IPython.core.display.HTML object>"
      ]
     },
     "metadata": {},
     "output_type": "display_data"
    },
    {
     "data": {
      "text/html": [
       "<li><b>Output Notebook</b> (7d): <a href='out_notebooks/usALEX-5samples-PR-raw-dir_ex_aa-fit-out-AexAem-7d.ipynb' target='_blank'>out_notebooks/usALEX-5samples-PR-raw-dir_ex_aa-fit-out-AexAem-7d.ipynb</a><br>"
      ],
      "text/plain": [
       "/Users/anto/Google Drive/notebooks/multispot_paper/out_notebooks/usALEX-5samples-PR-raw-dir_ex_aa-fit-out-AexAem-7d.ipynb"
      ]
     },
     "metadata": {},
     "output_type": "display_data"
    },
    {
     "data": {
      "text/html": [
       "<li><b>Output Notebook</b> (12d): <a href='out_notebooks/usALEX-5samples-PR-raw-dir_ex_aa-fit-out-AexAem-12d.ipynb' target='_blank'>out_notebooks/usALEX-5samples-PR-raw-dir_ex_aa-fit-out-AexAem-12d.ipynb</a><br>"
      ],
      "text/plain": [
       "/Users/anto/Google Drive/notebooks/multispot_paper/out_notebooks/usALEX-5samples-PR-raw-dir_ex_aa-fit-out-AexAem-12d.ipynb"
      ]
     },
     "metadata": {},
     "output_type": "display_data"
    },
    {
     "data": {
      "text/html": [
       "<li><b>Output Notebook</b> (17d): <a href='out_notebooks/usALEX-5samples-PR-raw-dir_ex_aa-fit-out-AexAem-17d.ipynb' target='_blank'>out_notebooks/usALEX-5samples-PR-raw-dir_ex_aa-fit-out-AexAem-17d.ipynb</a><br>"
      ],
      "text/plain": [
       "/Users/anto/Google Drive/notebooks/multispot_paper/out_notebooks/usALEX-5samples-PR-raw-dir_ex_aa-fit-out-AexAem-17d.ipynb"
      ]
     },
     "metadata": {},
     "output_type": "display_data"
    },
    {
     "data": {
      "text/html": [
       "<li><b>Output Notebook</b> (22d): <a href='out_notebooks/usALEX-5samples-PR-raw-dir_ex_aa-fit-out-AexAem-22d.ipynb' target='_blank'>out_notebooks/usALEX-5samples-PR-raw-dir_ex_aa-fit-out-AexAem-22d.ipynb</a><br>"
      ],
      "text/plain": [
       "/Users/anto/Google Drive/notebooks/multispot_paper/out_notebooks/usALEX-5samples-PR-raw-dir_ex_aa-fit-out-AexAem-22d.ipynb"
      ]
     },
     "metadata": {},
     "output_type": "display_data"
    },
    {
     "data": {
      "text/html": [
       "<li><b>Output Notebook</b> (27d): <a href='out_notebooks/usALEX-5samples-PR-raw-dir_ex_aa-fit-out-AexAem-27d.ipynb' target='_blank'>out_notebooks/usALEX-5samples-PR-raw-dir_ex_aa-fit-out-AexAem-27d.ipynb</a><br>"
      ],
      "text/plain": [
       "/Users/anto/Google Drive/notebooks/multispot_paper/out_notebooks/usALEX-5samples-PR-raw-dir_ex_aa-fit-out-AexAem-27d.ipynb"
      ]
     },
     "metadata": {},
     "output_type": "display_data"
    },
    {
     "data": {
      "text/html": [
       "</ul>"
      ],
      "text/plain": [
       "<IPython.core.display.HTML object>"
      ]
     },
     "metadata": {},
     "output_type": "display_data"
    },
    {
     "data": {
      "text/html": [
       "<div>\n",
       "<table border=\"1\" class=\"dataframe\">\n",
       "  <thead>\n",
       "    <tr style=\"text-align: right;\">\n",
       "      <th></th>\n",
       "      <th>n_bursts_aa</th>\n",
       "      <th>dir_ex_S1p</th>\n",
       "      <th>dir_ex_S_kde</th>\n",
       "      <th>dir_ex_S2p</th>\n",
       "      <th>dir_ex_S2pa</th>\n",
       "      <th>dir_ex_S2p_w1</th>\n",
       "      <th>dir_ex_S_kde_w1</th>\n",
       "      <th>dir_ex_S_kde_w4</th>\n",
       "      <th>dir_ex_S_kde_w5</th>\n",
       "      <th>dir_ex_S2p_w5</th>\n",
       "      <th>dir_ex_S2p_w5a</th>\n",
       "      <th>S_2peaks_w5</th>\n",
       "      <th>S_2peaks_w5_fiterr</th>\n",
       "    </tr>\n",
       "    <tr>\n",
       "      <th>sample</th>\n",
       "      <th></th>\n",
       "      <th></th>\n",
       "      <th></th>\n",
       "      <th></th>\n",
       "      <th></th>\n",
       "      <th></th>\n",
       "      <th></th>\n",
       "      <th></th>\n",
       "      <th></th>\n",
       "      <th></th>\n",
       "      <th></th>\n",
       "      <th></th>\n",
       "      <th></th>\n",
       "    </tr>\n",
       "  </thead>\n",
       "  <tbody>\n",
       "    <tr>\n",
       "      <th>7d</th>\n",
       "      <td>630</td>\n",
       "      <td>0.0350</td>\n",
       "      <td>0.0611</td>\n",
       "      <td>0.0687</td>\n",
       "      <td>0.0605</td>\n",
       "      <td>0.0659</td>\n",
       "      <td>0.0609</td>\n",
       "      <td>0.0551</td>\n",
       "      <td>0.0537</td>\n",
       "      <td>0.0554</td>\n",
       "      <td>0.0500</td>\n",
       "      <td>0.0525</td>\n",
       "      <td>0.0023</td>\n",
       "    </tr>\n",
       "    <tr>\n",
       "      <th>12d</th>\n",
       "      <td>269</td>\n",
       "      <td>0.0371</td>\n",
       "      <td>0.0604</td>\n",
       "      <td>0.0925</td>\n",
       "      <td>0.0417</td>\n",
       "      <td>0.0736</td>\n",
       "      <td>0.0604</td>\n",
       "      <td>0.0571</td>\n",
       "      <td>0.0549</td>\n",
       "      <td>0.0576</td>\n",
       "      <td>0.0449</td>\n",
       "      <td>0.0544</td>\n",
       "      <td>0.0033</td>\n",
       "    </tr>\n",
       "    <tr>\n",
       "      <th>17d</th>\n",
       "      <td>608</td>\n",
       "      <td>0.0347</td>\n",
       "      <td>0.0834</td>\n",
       "      <td>0.1195</td>\n",
       "      <td>0.0704</td>\n",
       "      <td>0.0950</td>\n",
       "      <td>0.0827</td>\n",
       "      <td>0.0774</td>\n",
       "      <td>0.0714</td>\n",
       "      <td>0.0729</td>\n",
       "      <td>0.1744</td>\n",
       "      <td>0.0679</td>\n",
       "      <td>0.0031</td>\n",
       "    </tr>\n",
       "    <tr>\n",
       "      <th>22d</th>\n",
       "      <td>433</td>\n",
       "      <td>0.0265</td>\n",
       "      <td>0.0865</td>\n",
       "      <td>0.1111</td>\n",
       "      <td>0.0538</td>\n",
       "      <td>0.0826</td>\n",
       "      <td>0.0855</td>\n",
       "      <td>0.0716</td>\n",
       "      <td>0.0643</td>\n",
       "      <td>0.0619</td>\n",
       "      <td>0.0469</td>\n",
       "      <td>0.0583</td>\n",
       "      <td>0.0030</td>\n",
       "    </tr>\n",
       "    <tr>\n",
       "      <th>27d</th>\n",
       "      <td>129</td>\n",
       "      <td>0.0198</td>\n",
       "      <td>0.0509</td>\n",
       "      <td>0.0787</td>\n",
       "      <td>0.0406</td>\n",
       "      <td>0.0802</td>\n",
       "      <td>0.0504</td>\n",
       "      <td>0.0748</td>\n",
       "      <td>0.0434</td>\n",
       "      <td>0.0555</td>\n",
       "      <td>0.0171</td>\n",
       "      <td>0.0526</td>\n",
       "      <td>0.0040</td>\n",
       "    </tr>\n",
       "  </tbody>\n",
       "</table>\n",
       "</div>"
      ],
      "text/plain": [
       "        n_bursts_aa  dir_ex_S1p  dir_ex_S_kde  dir_ex_S2p  dir_ex_S2pa  \\\n",
       "sample                                                                   \n",
       "7d              630      0.0350        0.0611      0.0687       0.0605   \n",
       "12d             269      0.0371        0.0604      0.0925       0.0417   \n",
       "17d             608      0.0347        0.0834      0.1195       0.0704   \n",
       "22d             433      0.0265        0.0865      0.1111       0.0538   \n",
       "27d             129      0.0198        0.0509      0.0787       0.0406   \n",
       "\n",
       "        dir_ex_S2p_w1  dir_ex_S_kde_w1  dir_ex_S_kde_w4  dir_ex_S_kde_w5  \\\n",
       "sample                                                                     \n",
       "7d             0.0659           0.0609           0.0551           0.0537   \n",
       "12d            0.0736           0.0604           0.0571           0.0549   \n",
       "17d            0.0950           0.0827           0.0774           0.0714   \n",
       "22d            0.0826           0.0855           0.0716           0.0643   \n",
       "27d            0.0802           0.0504           0.0748           0.0434   \n",
       "\n",
       "        dir_ex_S2p_w5  dir_ex_S2p_w5a  S_2peaks_w5  S_2peaks_w5_fiterr  \n",
       "sample                                                                  \n",
       "7d             0.0554          0.0500       0.0525              0.0023  \n",
       "12d            0.0576          0.0449       0.0544              0.0033  \n",
       "17d            0.0729          0.1744       0.0679              0.0031  \n",
       "22d            0.0619          0.0469       0.0583              0.0030  \n",
       "27d            0.0555          0.0171       0.0526              0.0040  "
      ]
     },
     "metadata": {},
     "output_type": "display_data"
    },
    {
     "data": {
      "text/html": [
       "<b>Download Data:</b> <a href='results/usALEX-5samples-PR-raw-dir_ex_aa-fit-AexAem.csv' target='_blank'>results/usALEX-5samples-PR-raw-dir_ex_aa-fit-AexAem.csv</a><br>"
      ],
      "text/plain": [
       "/Users/anto/Google Drive/notebooks/multispot_paper/results/usALEX-5samples-PR-raw-dir_ex_aa-fit-AexAem.csv"
      ]
     },
     "metadata": {},
     "output_type": "display_data"
    }
   ],
   "source": [
    "nb_name = 'usALEX-5samples-PR-raw-dir_ex_aa-fit'\n",
    "run_notebook_template(nb_name, ph_sel='AexAem')"
   ]
  },
  {
   "cell_type": "markdown",
   "metadata": {
    "internals": {},
    "slideshow": {
     "slide_type": "-"
    }
   },
   "source": [
    "### Direct excitation fit\n",
    "\n",
    "The notebook following notebook computes the direct excitation coefficient \n",
    "performing an average of the values extracted from each single measurement:"
   ]
  },
  {
   "cell_type": "code",
   "execution_count": 11,
   "metadata": {
    "internals": {},
    "slideshow": {
     "slide_type": "-"
    }
   },
   "outputs": [
    {
     "data": {
      "text/html": [
       "<b>Source Notebook</b>: <a href='usALEX - Corrections - Direct excitation fit.ipynb' target='_blank'>usALEX - Corrections - Direct excitation fit.ipynb</a><br>"
      ],
      "text/plain": [
       "/Users/anto/Google Drive/notebooks/multispot_paper/usALEX - Corrections - Direct excitation fit.ipynb"
      ]
     },
     "metadata": {},
     "output_type": "display_data"
    },
    {
     "data": {
      "text/html": [
       "<b>Output Notebook</b>: <a href='out_notebooks/usALEX - Corrections - Direct excitation fit-out.ipynb' target='_blank'>out_notebooks/usALEX - Corrections - Direct excitation fit-out.ipynb</a><br>"
      ],
      "text/plain": [
       "/Users/anto/Google Drive/notebooks/multispot_paper/out_notebooks/usALEX - Corrections - Direct excitation fit-out.ipynb"
      ]
     },
     "metadata": {},
     "output_type": "display_data"
    }
   ],
   "source": [
    "run_notebook('usALEX - Corrections - Direct excitation fit')"
   ]
  },
  {
   "cell_type": "markdown",
   "metadata": {},
   "source": [
    "The previous notebook saves:\n",
    "\n",
    "- [usALEX - direct excitation coefficient dir_ex_aa.csv](results/usALEX - direct excitation coefficient dir_ex_aa.csv)"
   ]
  },
  {
   "cell_type": "markdown",
   "metadata": {
    "internals": {},
    "slideshow": {
     "slide_type": "-"
    }
   },
   "source": [
    "## μs-ALEX: γ-factor\n",
    "\n",
    "Here we compute the $\\gamma$-factor for the μs-ALEX measurements.\n",
    "\n",
    "First we reprocess the μs-ALEX measurements including background, \n",
    "leakage and direct excitation correction (standard PR). Then, \n",
    "for the fitted $E$ and $S$ peak position for the FRET population \n",
    "we fit the $\\gamma$-factor."
   ]
  },
  {
   "cell_type": "markdown",
   "metadata": {
    "internals": {},
    "slideshow": {
     "slide_type": "-"
    }
   },
   "source": [
    "### Proximity Ratio analysis"
   ]
  },
  {
   "cell_type": "code",
   "execution_count": 12,
   "metadata": {
    "internals": {},
    "slideshow": {
     "slide_type": "-"
    }
   },
   "outputs": [
    {
     "data": {
      "text/html": [
       "<b>Source Notebook</b>: <a href='usALEX-5samples-PR-leakage-dir-ex-all-ph.ipynb' target='_blank'>usALEX-5samples-PR-leakage-dir-ex-all-ph.ipynb</a><br>"
      ],
      "text/plain": [
       "/Users/anto/Google Drive/notebooks/multispot_paper/usALEX-5samples-PR-leakage-dir-ex-all-ph.ipynb"
      ]
     },
     "metadata": {},
     "output_type": "display_data"
    },
    {
     "data": {
      "text/html": [
       "<ul>"
      ],
      "text/plain": [
       "<IPython.core.display.HTML object>"
      ]
     },
     "metadata": {},
     "output_type": "display_data"
    },
    {
     "data": {
      "text/html": [
       "<li><b>Output Notebook</b> (7d): <a href='out_notebooks/usALEX-5samples-PR-leakage-dir-ex-all-ph-out-7d.ipynb' target='_blank'>out_notebooks/usALEX-5samples-PR-leakage-dir-ex-all-ph-out-7d.ipynb</a><br>"
      ],
      "text/plain": [
       "/Users/anto/Google Drive/notebooks/multispot_paper/out_notebooks/usALEX-5samples-PR-leakage-dir-ex-all-ph-out-7d.ipynb"
      ]
     },
     "metadata": {},
     "output_type": "display_data"
    },
    {
     "data": {
      "text/html": [
       "<li><b>Output Notebook</b> (12d): <a href='out_notebooks/usALEX-5samples-PR-leakage-dir-ex-all-ph-out-12d.ipynb' target='_blank'>out_notebooks/usALEX-5samples-PR-leakage-dir-ex-all-ph-out-12d.ipynb</a><br>"
      ],
      "text/plain": [
       "/Users/anto/Google Drive/notebooks/multispot_paper/out_notebooks/usALEX-5samples-PR-leakage-dir-ex-all-ph-out-12d.ipynb"
      ]
     },
     "metadata": {},
     "output_type": "display_data"
    },
    {
     "data": {
      "text/html": [
       "<li><b>Output Notebook</b> (17d): <a href='out_notebooks/usALEX-5samples-PR-leakage-dir-ex-all-ph-out-17d.ipynb' target='_blank'>out_notebooks/usALEX-5samples-PR-leakage-dir-ex-all-ph-out-17d.ipynb</a><br>"
      ],
      "text/plain": [
       "/Users/anto/Google Drive/notebooks/multispot_paper/out_notebooks/usALEX-5samples-PR-leakage-dir-ex-all-ph-out-17d.ipynb"
      ]
     },
     "metadata": {},
     "output_type": "display_data"
    },
    {
     "data": {
      "text/html": [
       "<li><b>Output Notebook</b> (22d): <a href='out_notebooks/usALEX-5samples-PR-leakage-dir-ex-all-ph-out-22d.ipynb' target='_blank'>out_notebooks/usALEX-5samples-PR-leakage-dir-ex-all-ph-out-22d.ipynb</a><br>"
      ],
      "text/plain": [
       "/Users/anto/Google Drive/notebooks/multispot_paper/out_notebooks/usALEX-5samples-PR-leakage-dir-ex-all-ph-out-22d.ipynb"
      ]
     },
     "metadata": {},
     "output_type": "display_data"
    },
    {
     "data": {
      "text/html": [
       "<li><b>Output Notebook</b> (27d): <a href='out_notebooks/usALEX-5samples-PR-leakage-dir-ex-all-ph-out-27d.ipynb' target='_blank'>out_notebooks/usALEX-5samples-PR-leakage-dir-ex-all-ph-out-27d.ipynb</a><br>"
      ],
      "text/plain": [
       "/Users/anto/Google Drive/notebooks/multispot_paper/out_notebooks/usALEX-5samples-PR-leakage-dir-ex-all-ph-out-27d.ipynb"
      ]
     },
     "metadata": {},
     "output_type": "display_data"
    },
    {
     "data": {
      "text/html": [
       "</ul>"
      ],
      "text/plain": [
       "<IPython.core.display.HTML object>"
      ]
     },
     "metadata": {},
     "output_type": "display_data"
    },
    {
     "data": {
      "text/html": [
       "<div>\n",
       "<table border=\"1\" class=\"dataframe\">\n",
       "  <thead>\n",
       "    <tr style=\"text-align: right;\">\n",
       "      <th></th>\n",
       "      <th>n_bursts_all</th>\n",
       "      <th>n_bursts_do</th>\n",
       "      <th>n_bursts_fret</th>\n",
       "      <th>E_kde_w</th>\n",
       "      <th>E_gauss_w</th>\n",
       "      <th>E_gauss_w_sig</th>\n",
       "      <th>E_gauss_w_err</th>\n",
       "      <th>S_kde</th>\n",
       "      <th>S_gauss</th>\n",
       "      <th>S_gauss_sig</th>\n",
       "      <th>S_gauss_err</th>\n",
       "      <th>E_pr_do_kde</th>\n",
       "      <th>nt_mean</th>\n",
       "    </tr>\n",
       "    <tr>\n",
       "      <th>sample</th>\n",
       "      <th></th>\n",
       "      <th></th>\n",
       "      <th></th>\n",
       "      <th></th>\n",
       "      <th></th>\n",
       "      <th></th>\n",
       "      <th></th>\n",
       "      <th></th>\n",
       "      <th></th>\n",
       "      <th></th>\n",
       "      <th></th>\n",
       "      <th></th>\n",
       "      <th></th>\n",
       "    </tr>\n",
       "  </thead>\n",
       "  <tbody>\n",
       "    <tr>\n",
       "      <th>7d</th>\n",
       "      <td>1172</td>\n",
       "      <td>586</td>\n",
       "      <td>543</td>\n",
       "      <td>0.9304</td>\n",
       "      <td>0.9258</td>\n",
       "      <td>0.0595</td>\n",
       "      <td>0.0026</td>\n",
       "      <td>0.5512</td>\n",
       "      <td>0.5506</td>\n",
       "      <td>0.0995</td>\n",
       "      <td>0.0043</td>\n",
       "      <td>0.0020</td>\n",
       "      <td>22.2278</td>\n",
       "    </tr>\n",
       "    <tr>\n",
       "      <th>12d</th>\n",
       "      <td>1307</td>\n",
       "      <td>329</td>\n",
       "      <td>948</td>\n",
       "      <td>0.7440</td>\n",
       "      <td>0.7315</td>\n",
       "      <td>0.0919</td>\n",
       "      <td>0.0030</td>\n",
       "      <td>0.5748</td>\n",
       "      <td>0.5575</td>\n",
       "      <td>0.1051</td>\n",
       "      <td>0.0034</td>\n",
       "      <td>0.0160</td>\n",
       "      <td>22.0024</td>\n",
       "    </tr>\n",
       "    <tr>\n",
       "      <th>17d</th>\n",
       "      <td>2489</td>\n",
       "      <td>463</td>\n",
       "      <td>1964</td>\n",
       "      <td>0.4320</td>\n",
       "      <td>0.4271</td>\n",
       "      <td>0.1137</td>\n",
       "      <td>0.0026</td>\n",
       "      <td>0.5434</td>\n",
       "      <td>0.5371</td>\n",
       "      <td>0.1129</td>\n",
       "      <td>0.0025</td>\n",
       "      <td>0.0128</td>\n",
       "      <td>21.1932</td>\n",
       "    </tr>\n",
       "    <tr>\n",
       "      <th>22d</th>\n",
       "      <td>2054</td>\n",
       "      <td>319</td>\n",
       "      <td>1673</td>\n",
       "      <td>0.1804</td>\n",
       "      <td>0.1842</td>\n",
       "      <td>0.0790</td>\n",
       "      <td>0.0019</td>\n",
       "      <td>0.5414</td>\n",
       "      <td>0.5429</td>\n",
       "      <td>0.1150</td>\n",
       "      <td>0.0028</td>\n",
       "      <td>0.0000</td>\n",
       "      <td>23.0165</td>\n",
       "    </tr>\n",
       "    <tr>\n",
       "      <th>27d</th>\n",
       "      <td>791</td>\n",
       "      <td>160</td>\n",
       "      <td>590</td>\n",
       "      <td>0.0844</td>\n",
       "      <td>0.0854</td>\n",
       "      <td>0.0701</td>\n",
       "      <td>0.0029</td>\n",
       "      <td>0.5160</td>\n",
       "      <td>0.5561</td>\n",
       "      <td>0.1152</td>\n",
       "      <td>0.0047</td>\n",
       "      <td>-0.0088</td>\n",
       "      <td>16.8301</td>\n",
       "    </tr>\n",
       "  </tbody>\n",
       "</table>\n",
       "</div>"
      ],
      "text/plain": [
       "        n_bursts_all  n_bursts_do  n_bursts_fret  E_kde_w  E_gauss_w  \\\n",
       "sample                                                                 \n",
       "7d              1172          586            543   0.9304     0.9258   \n",
       "12d             1307          329            948   0.7440     0.7315   \n",
       "17d             2489          463           1964   0.4320     0.4271   \n",
       "22d             2054          319           1673   0.1804     0.1842   \n",
       "27d              791          160            590   0.0844     0.0854   \n",
       "\n",
       "        E_gauss_w_sig  E_gauss_w_err   S_kde  S_gauss  S_gauss_sig  \\\n",
       "sample                                                               \n",
       "7d             0.0595         0.0026  0.5512   0.5506       0.0995   \n",
       "12d            0.0919         0.0030  0.5748   0.5575       0.1051   \n",
       "17d            0.1137         0.0026  0.5434   0.5371       0.1129   \n",
       "22d            0.0790         0.0019  0.5414   0.5429       0.1150   \n",
       "27d            0.0701         0.0029  0.5160   0.5561       0.1152   \n",
       "\n",
       "        S_gauss_err  E_pr_do_kde  nt_mean  \n",
       "sample                                     \n",
       "7d           0.0043       0.0020  22.2278  \n",
       "12d          0.0034       0.0160  22.0024  \n",
       "17d          0.0025       0.0128  21.1932  \n",
       "22d          0.0028       0.0000  23.0165  \n",
       "27d          0.0047      -0.0088  16.8301  "
      ]
     },
     "metadata": {},
     "output_type": "display_data"
    },
    {
     "data": {
      "text/html": [
       "<b>Download Data:</b> <a href='results/usALEX-5samples-PR-leakage-dir-ex-all-ph.csv' target='_blank'>results/usALEX-5samples-PR-leakage-dir-ex-all-ph.csv</a><br>"
      ],
      "text/plain": [
       "/Users/anto/Google Drive/notebooks/multispot_paper/results/usALEX-5samples-PR-leakage-dir-ex-all-ph.csv"
      ]
     },
     "metadata": {},
     "output_type": "display_data"
    }
   ],
   "source": [
    "nb_name = 'usALEX-5samples-PR-leakage-dir-ex-all-ph'\n",
    "run_notebook_template(nb_name)"
   ]
  },
  {
   "cell_type": "markdown",
   "metadata": {
    "internals": {},
    "slideshow": {
     "slide_type": "-"
    }
   },
   "source": [
    "### γ-factor fit\n",
    "\n",
    "The notebook [usALEX - Corrections - Gamma factor fit](usALEX - Corrections - Gamma factor fit.ipynb)\n",
    "fits the γ-factor from $E$ and $S$ values computed in the previous section."
   ]
  },
  {
   "cell_type": "code",
   "execution_count": 13,
   "metadata": {
    "internals": {},
    "slideshow": {
     "slide_type": "-"
    }
   },
   "outputs": [
    {
     "data": {
      "text/html": [
       "<b>Source Notebook</b>: <a href='usALEX - Corrections - Gamma factor fit.ipynb' target='_blank'>usALEX - Corrections - Gamma factor fit.ipynb</a><br>"
      ],
      "text/plain": [
       "/Users/anto/Google Drive/notebooks/multispot_paper/usALEX - Corrections - Gamma factor fit.ipynb"
      ]
     },
     "metadata": {},
     "output_type": "display_data"
    },
    {
     "data": {
      "text/html": [
       "<b>Output Notebook</b>: <a href='out_notebooks/usALEX - Corrections - Gamma factor fit-out.ipynb' target='_blank'>out_notebooks/usALEX - Corrections - Gamma factor fit-out.ipynb</a><br>"
      ],
      "text/plain": [
       "/Users/anto/Google Drive/notebooks/multispot_paper/out_notebooks/usALEX - Corrections - Gamma factor fit-out.ipynb"
      ]
     },
     "metadata": {},
     "output_type": "display_data"
    }
   ],
   "source": [
    "run_notebook('usALEX - Corrections - Gamma factor fit')"
   ]
  },
  {
   "cell_type": "markdown",
   "metadata": {},
   "source": [
    "The previous notebooks saves:\n",
    "\n",
    "- [usALEX - gamma factor - all-ph.csv](results/usALEX - gamma factor - all-ph.csv)\n",
    "- [usALEX - beta factor - all-ph.csv](results/usALEX - beta factor - all-ph.csv)"
   ]
  },
  {
   "cell_type": "markdown",
   "metadata": {
    "internals": {},
    "slideshow": {
     "slide_type": "-"
    }
   },
   "source": [
    "## μs-ALEX: Corrected E\n",
    "\n",
    "Using all the correction coefficients here we computed the corrected $E$ histograms:"
   ]
  },
  {
   "cell_type": "code",
   "execution_count": 14,
   "metadata": {
    "internals": {},
    "slideshow": {
     "slide_type": "-"
    }
   },
   "outputs": [
    {
     "data": {
      "text/html": [
       "<b>Source Notebook</b>: <a href='usALEX-5samples-E-corrected-all-ph.ipynb' target='_blank'>usALEX-5samples-E-corrected-all-ph.ipynb</a><br>"
      ],
      "text/plain": [
       "/Users/anto/Google Drive/notebooks/multispot_paper/usALEX-5samples-E-corrected-all-ph.ipynb"
      ]
     },
     "metadata": {},
     "output_type": "display_data"
    },
    {
     "data": {
      "text/html": [
       "<ul>"
      ],
      "text/plain": [
       "<IPython.core.display.HTML object>"
      ]
     },
     "metadata": {},
     "output_type": "display_data"
    },
    {
     "data": {
      "text/html": [
       "<li><b>Output Notebook</b> (7d): <a href='out_notebooks/usALEX-5samples-E-corrected-all-ph-out-7d.ipynb' target='_blank'>out_notebooks/usALEX-5samples-E-corrected-all-ph-out-7d.ipynb</a><br>"
      ],
      "text/plain": [
       "/Users/anto/Google Drive/notebooks/multispot_paper/out_notebooks/usALEX-5samples-E-corrected-all-ph-out-7d.ipynb"
      ]
     },
     "metadata": {},
     "output_type": "display_data"
    },
    {
     "data": {
      "text/html": [
       "<li><b>Output Notebook</b> (12d): <a href='out_notebooks/usALEX-5samples-E-corrected-all-ph-out-12d.ipynb' target='_blank'>out_notebooks/usALEX-5samples-E-corrected-all-ph-out-12d.ipynb</a><br>"
      ],
      "text/plain": [
       "/Users/anto/Google Drive/notebooks/multispot_paper/out_notebooks/usALEX-5samples-E-corrected-all-ph-out-12d.ipynb"
      ]
     },
     "metadata": {},
     "output_type": "display_data"
    },
    {
     "data": {
      "text/html": [
       "<li><b>Output Notebook</b> (17d): <a href='out_notebooks/usALEX-5samples-E-corrected-all-ph-out-17d.ipynb' target='_blank'>out_notebooks/usALEX-5samples-E-corrected-all-ph-out-17d.ipynb</a><br>"
      ],
      "text/plain": [
       "/Users/anto/Google Drive/notebooks/multispot_paper/out_notebooks/usALEX-5samples-E-corrected-all-ph-out-17d.ipynb"
      ]
     },
     "metadata": {},
     "output_type": "display_data"
    },
    {
     "data": {
      "text/html": [
       "<li><b>Output Notebook</b> (22d): <a href='out_notebooks/usALEX-5samples-E-corrected-all-ph-out-22d.ipynb' target='_blank'>out_notebooks/usALEX-5samples-E-corrected-all-ph-out-22d.ipynb</a><br>"
      ],
      "text/plain": [
       "/Users/anto/Google Drive/notebooks/multispot_paper/out_notebooks/usALEX-5samples-E-corrected-all-ph-out-22d.ipynb"
      ]
     },
     "metadata": {},
     "output_type": "display_data"
    },
    {
     "data": {
      "text/html": [
       "<li><b>Output Notebook</b> (27d): <a href='out_notebooks/usALEX-5samples-E-corrected-all-ph-out-27d.ipynb' target='_blank'>out_notebooks/usALEX-5samples-E-corrected-all-ph-out-27d.ipynb</a><br>"
      ],
      "text/plain": [
       "/Users/anto/Google Drive/notebooks/multispot_paper/out_notebooks/usALEX-5samples-E-corrected-all-ph-out-27d.ipynb"
      ]
     },
     "metadata": {},
     "output_type": "display_data"
    },
    {
     "data": {
      "text/html": [
       "</ul>"
      ],
      "text/plain": [
       "<IPython.core.display.HTML object>"
      ]
     },
     "metadata": {},
     "output_type": "display_data"
    },
    {
     "data": {
      "text/html": [
       "<div>\n",
       "<table border=\"1\" class=\"dataframe\">\n",
       "  <thead>\n",
       "    <tr style=\"text-align: right;\">\n",
       "      <th></th>\n",
       "      <th>n_bursts_all</th>\n",
       "      <th>n_bursts_do</th>\n",
       "      <th>n_bursts_fret</th>\n",
       "      <th>E_kde_w</th>\n",
       "      <th>E_gauss_w</th>\n",
       "      <th>E_gauss_w_sig</th>\n",
       "      <th>E_gauss_w_err</th>\n",
       "      <th>E_gauss_w_fiterr</th>\n",
       "      <th>S_kde</th>\n",
       "      <th>S_gauss</th>\n",
       "      <th>S_gauss_sig</th>\n",
       "      <th>S_gauss_err</th>\n",
       "      <th>S_gauss_fiterr</th>\n",
       "      <th>E_pr_do_kde</th>\n",
       "      <th>nt_mean</th>\n",
       "    </tr>\n",
       "    <tr>\n",
       "      <th>sample</th>\n",
       "      <th></th>\n",
       "      <th></th>\n",
       "      <th></th>\n",
       "      <th></th>\n",
       "      <th></th>\n",
       "      <th></th>\n",
       "      <th></th>\n",
       "      <th></th>\n",
       "      <th></th>\n",
       "      <th></th>\n",
       "      <th></th>\n",
       "      <th></th>\n",
       "      <th></th>\n",
       "      <th></th>\n",
       "      <th></th>\n",
       "    </tr>\n",
       "  </thead>\n",
       "  <tbody>\n",
       "    <tr>\n",
       "      <th>7d</th>\n",
       "      <td>1172</td>\n",
       "      <td>587</td>\n",
       "      <td>542</td>\n",
       "      <td>0.9290</td>\n",
       "      <td>0.9243</td>\n",
       "      <td>0.0601</td>\n",
       "      <td>0.0026</td>\n",
       "      <td>0.0018</td>\n",
       "      <td>0.5520</td>\n",
       "      <td>0.5507</td>\n",
       "      <td>0.0992</td>\n",
       "      <td>0.0043</td>\n",
       "      <td>0.0025</td>\n",
       "      <td>0.0022</td>\n",
       "      <td>22.2278</td>\n",
       "    </tr>\n",
       "    <tr>\n",
       "      <th>12d</th>\n",
       "      <td>1307</td>\n",
       "      <td>329</td>\n",
       "      <td>948</td>\n",
       "      <td>0.7398</td>\n",
       "      <td>0.7270</td>\n",
       "      <td>0.0921</td>\n",
       "      <td>0.0030</td>\n",
       "      <td>0.0020</td>\n",
       "      <td>0.5758</td>\n",
       "      <td>0.5587</td>\n",
       "      <td>0.1054</td>\n",
       "      <td>0.0034</td>\n",
       "      <td>0.0038</td>\n",
       "      <td>0.0154</td>\n",
       "      <td>22.0024</td>\n",
       "    </tr>\n",
       "    <tr>\n",
       "      <th>17d</th>\n",
       "      <td>2489</td>\n",
       "      <td>464</td>\n",
       "      <td>1964</td>\n",
       "      <td>0.4268</td>\n",
       "      <td>0.4226</td>\n",
       "      <td>0.1130</td>\n",
       "      <td>0.0025</td>\n",
       "      <td>0.0020</td>\n",
       "      <td>0.5462</td>\n",
       "      <td>0.5396</td>\n",
       "      <td>0.1125</td>\n",
       "      <td>0.0025</td>\n",
       "      <td>0.0022</td>\n",
       "      <td>0.0124</td>\n",
       "      <td>21.1932</td>\n",
       "    </tr>\n",
       "    <tr>\n",
       "      <th>22d</th>\n",
       "      <td>2054</td>\n",
       "      <td>320</td>\n",
       "      <td>1672</td>\n",
       "      <td>0.1774</td>\n",
       "      <td>0.1811</td>\n",
       "      <td>0.0772</td>\n",
       "      <td>0.0019</td>\n",
       "      <td>0.0015</td>\n",
       "      <td>0.5458</td>\n",
       "      <td>0.5470</td>\n",
       "      <td>0.1150</td>\n",
       "      <td>0.0028</td>\n",
       "      <td>0.0027</td>\n",
       "      <td>0.0000</td>\n",
       "      <td>23.0165</td>\n",
       "    </tr>\n",
       "    <tr>\n",
       "      <th>27d</th>\n",
       "      <td>791</td>\n",
       "      <td>160</td>\n",
       "      <td>589</td>\n",
       "      <td>0.0826</td>\n",
       "      <td>0.0840</td>\n",
       "      <td>0.0693</td>\n",
       "      <td>0.0029</td>\n",
       "      <td>0.0016</td>\n",
       "      <td>0.5208</td>\n",
       "      <td>0.5613</td>\n",
       "      <td>0.1145</td>\n",
       "      <td>0.0047</td>\n",
       "      <td>0.0037</td>\n",
       "      <td>-0.0088</td>\n",
       "      <td>16.8301</td>\n",
       "    </tr>\n",
       "  </tbody>\n",
       "</table>\n",
       "</div>"
      ],
      "text/plain": [
       "        n_bursts_all  n_bursts_do  n_bursts_fret  E_kde_w  E_gauss_w  \\\n",
       "sample                                                                 \n",
       "7d              1172          587            542   0.9290     0.9243   \n",
       "12d             1307          329            948   0.7398     0.7270   \n",
       "17d             2489          464           1964   0.4268     0.4226   \n",
       "22d             2054          320           1672   0.1774     0.1811   \n",
       "27d              791          160            589   0.0826     0.0840   \n",
       "\n",
       "        E_gauss_w_sig  E_gauss_w_err  E_gauss_w_fiterr   S_kde  S_gauss  \\\n",
       "sample                                                                    \n",
       "7d             0.0601         0.0026            0.0018  0.5520   0.5507   \n",
       "12d            0.0921         0.0030            0.0020  0.5758   0.5587   \n",
       "17d            0.1130         0.0025            0.0020  0.5462   0.5396   \n",
       "22d            0.0772         0.0019            0.0015  0.5458   0.5470   \n",
       "27d            0.0693         0.0029            0.0016  0.5208   0.5613   \n",
       "\n",
       "        S_gauss_sig  S_gauss_err  S_gauss_fiterr  E_pr_do_kde  nt_mean  \n",
       "sample                                                                  \n",
       "7d           0.0992       0.0043          0.0025       0.0022  22.2278  \n",
       "12d          0.1054       0.0034          0.0038       0.0154  22.0024  \n",
       "17d          0.1125       0.0025          0.0022       0.0124  21.1932  \n",
       "22d          0.1150       0.0028          0.0027       0.0000  23.0165  \n",
       "27d          0.1145       0.0047          0.0037      -0.0088  16.8301  "
      ]
     },
     "metadata": {},
     "output_type": "display_data"
    },
    {
     "data": {
      "text/html": [
       "<b>Download Data:</b> <a href='results/usALEX-5samples-E-corrected-all-ph.csv' target='_blank'>results/usALEX-5samples-E-corrected-all-ph.csv</a><br>"
      ],
      "text/plain": [
       "/Users/anto/Google Drive/notebooks/multispot_paper/results/usALEX-5samples-E-corrected-all-ph.csv"
      ]
     },
     "metadata": {},
     "output_type": "display_data"
    }
   ],
   "source": [
    "nb_name = 'usALEX-5samples-E-corrected-all-ph'\n",
    "run_notebook_template(nb_name)"
   ]
  },
  {
   "cell_type": "markdown",
   "metadata": {
    "internals": {},
    "slideshow": {
     "slide_type": "-"
    }
   },
   "source": [
    "## Direct excitation: physical parameters\n",
    "\n",
    "Here we compute the \"physical\" direct direct excitation coefficient:\n",
    "\n",
    "$$d_{T} = \\frac{\\sigma_{D_{ex}}^A}{\\sigma_{D_{ex}}^D} $$\n",
    "\n",
    "This coefficient depends only on the fluorophores absorption cross-section \n",
    "at donor excitation wavelength. \n",
    "This coefficient can also be used to correct non-ALEX measurements.\n",
    "\n",
    "Additionally, the next notebook summarizes the estimated FRET efficiencies\n",
    "obtained with different methods and corrections. A table with fit errors \n",
    "and number of bursts is also included."
   ]
  },
  {
   "cell_type": "code",
   "execution_count": 15,
   "metadata": {
    "internals": {},
    "slideshow": {
     "slide_type": "-"
    }
   },
   "outputs": [
    {
     "data": {
      "text/html": [
       "<b>Source Notebook</b>: <a href='usALEX - Corrections - Direct excitation physical parameter.ipynb' target='_blank'>usALEX - Corrections - Direct excitation physical parameter.ipynb</a><br>"
      ],
      "text/plain": [
       "/Users/anto/Google Drive/notebooks/multispot_paper/usALEX - Corrections - Direct excitation physical parameter.ipynb"
      ]
     },
     "metadata": {},
     "output_type": "display_data"
    },
    {
     "data": {
      "text/html": [
       "<b>Output Notebook</b>: <a href='out_notebooks/usALEX - Corrections - Direct excitation physical parameter-out.ipynb' target='_blank'>out_notebooks/usALEX - Corrections - Direct excitation physical parameter-out.ipynb</a><br>"
      ],
      "text/plain": [
       "/Users/anto/Google Drive/notebooks/multispot_paper/out_notebooks/usALEX - Corrections - Direct excitation physical parameter-out.ipynb"
      ]
     },
     "metadata": {},
     "output_type": "display_data"
    }
   ],
   "source": [
    "run_notebook('usALEX - Corrections - Direct excitation physical parameter')"
   ]
  },
  {
   "cell_type": "markdown",
   "metadata": {},
   "source": [
    "The previous notebook saves:\n",
    "\n",
    "- [usALEX - direct excitation coefficient dir_ex_t beta.csv](results/usALEX - direct excitation coefficient dir_ex_t beta.csv)\n",
    "- [usALEX - direct excitation coefficient dir_ex_t fit.csv](results/usALEX - direct excitation coefficient dir_ex_t fit.csv)\n",
    "- [usALEX-5samples-E-all-methods.csv](results/usALEX-5samples-E-all-methods.csv)\n",
    "- [usALEX-5samples-E-all-methods_errors.csv](results/usALEX-5samples-E-all-methods_errors.csv)\n",
    "\n",
    "The last two files contain, respectively, the corrected E values fitted with various methods (Gauss, KDE, SNA, etc.) \n",
    "and the fit errors."
   ]
  },
  {
   "cell_type": "markdown",
   "metadata": {},
   "source": [
    "## μs-ALEX: Corrected E figure\n",
    "\n",
    "The following notebook uses the data [`usALEX-5samples-E-all-methods.csv`](results/usALEX-5samples-E-all-methods.csv) to create the final figure for the paper (for details and fit errors see the previous notebook `usALEX - Corrections - Direct excitation physical parameter`):"
   ]
  },
  {
   "cell_type": "code",
   "execution_count": 16,
   "metadata": {},
   "outputs": [
    {
     "data": {
      "text/html": [
       "<b>Source Notebook</b>: <a href='Figure - usALEX 5 dsDNA samples FRET.ipynb' target='_blank'>Figure - usALEX 5 dsDNA samples FRET.ipynb</a><br>"
      ],
      "text/plain": [
       "/Users/anto/Google Drive/notebooks/multispot_paper/Figure - usALEX 5 dsDNA samples FRET.ipynb"
      ]
     },
     "metadata": {},
     "output_type": "display_data"
    },
    {
     "data": {
      "text/html": [
       "<b>Output Notebook</b>: <a href='out_notebooks/Figure - usALEX 5 dsDNA samples FRET-out.ipynb' target='_blank'>out_notebooks/Figure - usALEX 5 dsDNA samples FRET-out.ipynb</a><br>"
      ],
      "text/plain": [
       "/Users/anto/Google Drive/notebooks/multispot_paper/out_notebooks/Figure - usALEX 5 dsDNA samples FRET-out.ipynb"
      ]
     },
     "metadata": {},
     "output_type": "display_data"
    }
   ],
   "source": [
    "run_notebook('Figure - usALEX 5 dsDNA samples FRET')"
   ]
  },
  {
   "cell_type": "markdown",
   "metadata": {},
   "source": [
    "<img src=\"figures/5dsDNA FRET usALEX.svg\" width=\"400\">\n",
    "\n",
    ">**Figure 1.** FRET efficiency for 5 dsDNA samples estimated using different methods.\n",
    "\n",
    "### Figure Provenance\n",
    "\n",
    "Donor leakage:\n",
    "-\t*Notebook:* [usALEX - Corrections - Leakage fit](out_notebooks/usALEX - Corrections - Leakage fit-out.ipynb)\n",
    "-\t[table_usalex_5samples_leakage_coeff.csv](results/table_usalex_5samples_leakage_coeff.csv)\n",
    "-\t[usALEX - leakage coefficient DexDem.csv](results/usALEX - leakage coefficient DexDem.csv)\n",
    "\n",
    "Direct Excitation:\n",
    "-\t*Notebook:* [usALEX - Corrections - Direct excitation fit](out_notebooks/usALEX - Corrections - Direct excitation fit-out.ipynb)\n",
    "-\t[usALEX-5samples-PR-raw-dir_ex_aa-fit-AexAem.csv](results/usALEX-5samples-PR-raw-dir_ex_aa-fit-AexAem.csv) (column `dir_ex_S_kde_w`)\n",
    "-\t[usALEX - direct excitation coefficient dir_ex_aa.csv](results/usALEX - direct excitation coefficient dir_ex_aa.csv)\n",
    "\n",
    "Gamma factor fit:\n",
    "-\t*Notebook:* [usALEX - Corrections - Gamma factor fit](out_notebooks/usALEX - Corrections - Gamma factor fit-out.ipynb)\n",
    "-\t[usALEX - gamma factor - all-ph.csv](results/usALEX - gamma factor - all-ph.csv)\n",
    "-\t[usALEX - beta factor - all-ph.csv](results/usALEX - beta factor - all-ph.csv)\n",
    "\n",
    "Corrected E\n",
    "-\t*Notebook:* [usALEX-5samples-E-corrected-all-ph](#μs-ALEX:-Corrected-E)\n",
    "-\t[usALEX-5samples-E-corrected-all-ph.csv](results/usALEX-5samples-E-corrected-all-ph.csv) (column `E_kde_w`)\n",
    "-\t*Notebook:* [usALEX - Corrections - Direct excitation physical parameter](out_notebooks/usALEX - Corrections - Direct excitation physical parameter-out.ipynb)\n",
    "-\t[usALEX-5samples-E-all-methods.csv](results/usALEX-5samples-E-all-methods.csv)\n",
    "\n",
    "SNA Analysis\n",
    "\n",
    "- Fitted E (ALIX software): [usALEX-5samples-E-SNA.csv](results/usALEX-5samples-E-SNA.csv)\n",
    "\n",
    "Plotting\n",
    "-\t*Notebook:* [Figure - usALEX 5 dsDNA samples FRET](out_notebooks/Figure - usALEX 5 dsDNA samples FRET-out.ipynb)\n"
   ]
  },
  {
   "cell_type": "markdown",
   "metadata": {
    "internals": {},
    "slideshow": {
     "slide_type": "-"
    }
   },
   "source": [
    "# Multi-spot Analysis"
   ]
  },
  {
   "cell_type": "markdown",
   "metadata": {
    "internals": {},
    "slideshow": {
     "slide_type": "-"
    }
   },
   "source": [
    "## DCR and Background"
   ]
  },
  {
   "cell_type": "markdown",
   "metadata": {
    "internals": {},
    "slideshow": {
     "slide_type": "-"
    }
   },
   "source": [
    "Plot background fits:"
   ]
  },
  {
   "cell_type": "code",
   "execution_count": 17,
   "metadata": {
    "internals": {},
    "slideshow": {
     "slide_type": "-"
    }
   },
   "outputs": [
    {
     "data": {
      "text/html": [
       "<b>Source Notebook</b>: <a href='Multi-spot 5-Samples analysis - Background.ipynb' target='_blank'>Multi-spot 5-Samples analysis - Background.ipynb</a><br>"
      ],
      "text/plain": [
       "/Users/anto/Google Drive/notebooks/multispot_paper/Multi-spot 5-Samples analysis - Background.ipynb"
      ]
     },
     "metadata": {},
     "output_type": "display_data"
    },
    {
     "data": {
      "text/html": [
       "<b>Output Notebook</b>: <a href='out_notebooks/Multi-spot 5-Samples analysis - Background-out.ipynb' target='_blank'>out_notebooks/Multi-spot 5-Samples analysis - Background-out.ipynb</a><br>"
      ],
      "text/plain": [
       "/Users/anto/Google Drive/notebooks/multispot_paper/out_notebooks/Multi-spot 5-Samples analysis - Background-out.ipynb"
      ]
     },
     "metadata": {},
     "output_type": "display_data"
    }
   ],
   "source": [
    "run_notebook('Multi-spot 5-Samples analysis - Background')"
   ]
  },
  {
   "cell_type": "markdown",
   "metadata": {
    "internals": {},
    "slideshow": {
     "slide_type": "-"
    }
   },
   "source": [
    "Compute detectors DCR:"
   ]
  },
  {
   "cell_type": "code",
   "execution_count": 18,
   "metadata": {
    "internals": {},
    "slideshow": {
     "slide_type": "-"
    }
   },
   "outputs": [
    {
     "data": {
      "text/html": [
       "<b>Source Notebook</b>: <a href='8-pixel DCR.ipynb' target='_blank'>8-pixel DCR.ipynb</a><br>"
      ],
      "text/plain": [
       "/Users/anto/Google Drive/notebooks/multispot_paper/8-pixel DCR.ipynb"
      ]
     },
     "metadata": {},
     "output_type": "display_data"
    },
    {
     "data": {
      "text/html": [
       "<b>Output Notebook</b>: <a href='out_notebooks/8-pixel DCR-out.ipynb' target='_blank'>out_notebooks/8-pixel DCR-out.ipynb</a><br>"
      ],
      "text/plain": [
       "/Users/anto/Google Drive/notebooks/multispot_paper/out_notebooks/8-pixel DCR-out.ipynb"
      ]
     },
     "metadata": {},
     "output_type": "display_data"
    }
   ],
   "source": [
    "run_notebook('8-pixel DCR')"
   ]
  },
  {
   "cell_type": "markdown",
   "metadata": {},
   "source": [
    "The previous notebook saves:\n",
    "\n",
    "- [8-pixels_DCR.csv](results/8-pixels_DCR.csv)"
   ]
  },
  {
   "cell_type": "markdown",
   "metadata": {},
   "source": [
    "## Signal vs spot"
   ]
  },
  {
   "cell_type": "code",
   "execution_count": 19,
   "metadata": {},
   "outputs": [
    {
     "data": {
      "text/html": [
       "<b>Source Notebook</b>: <a href='Multi-spot 5-Samples analysis - Signal vs spot.ipynb' target='_blank'>Multi-spot 5-Samples analysis - Signal vs spot.ipynb</a><br>"
      ],
      "text/plain": [
       "/Users/anto/Google Drive/notebooks/multispot_paper/Multi-spot 5-Samples analysis - Signal vs spot.ipynb"
      ]
     },
     "metadata": {},
     "output_type": "display_data"
    },
    {
     "data": {
      "text/html": [
       "<b>Output Notebook</b>: <a href='out_notebooks/Multi-spot 5-Samples analysis - Signal vs spot-out.ipynb' target='_blank'>out_notebooks/Multi-spot 5-Samples analysis - Signal vs spot-out.ipynb</a><br>"
      ],
      "text/plain": [
       "/Users/anto/Google Drive/notebooks/multispot_paper/out_notebooks/Multi-spot 5-Samples analysis - Signal vs spot-out.ipynb"
      ]
     },
     "metadata": {},
     "output_type": "display_data"
    }
   ],
   "source": [
    "run_notebook('Multi-spot 5-Samples analysis - Signal vs spot')"
   ]
  },
  {
   "cell_type": "markdown",
   "metadata": {},
   "source": [
    "<img src=\"figures/5dsDNA signal vs ch.png\" width=\"600\">\n",
    "\n",
    ">**Figure 2.** DCR-corrected total count rate as a function of the pixel."
   ]
  },
  {
   "cell_type": "markdown",
   "metadata": {
    "internals": {},
    "slideshow": {
     "slide_type": "-"
    }
   },
   "source": [
    "## Leakage coefficient\n",
    "\n",
    "First step of the analysis of the multi-spot data is fitting the leakage coefficient. \n",
    "The next notebook fits the D-only peak:"
   ]
  },
  {
   "cell_type": "code",
   "execution_count": 20,
   "metadata": {
    "internals": {},
    "slideshow": {
     "slide_type": "-"
    }
   },
   "outputs": [
    {
     "data": {
      "text/html": [
       "<b>Source Notebook</b>: <a href='Multi-spot 5-Samples analysis - Leakage coefficient fit.ipynb' target='_blank'>Multi-spot 5-Samples analysis - Leakage coefficient fit.ipynb</a><br>"
      ],
      "text/plain": [
       "/Users/anto/Google Drive/notebooks/multispot_paper/Multi-spot 5-Samples analysis - Leakage coefficient fit.ipynb"
      ]
     },
     "metadata": {},
     "output_type": "display_data"
    },
    {
     "data": {
      "text/html": [
       "<b>Output Notebook</b>: <a href='out_notebooks/Multi-spot 5-Samples analysis - Leakage coefficient fit-out.ipynb' target='_blank'>out_notebooks/Multi-spot 5-Samples analysis - Leakage coefficient fit-out.ipynb</a><br>"
      ],
      "text/plain": [
       "/Users/anto/Google Drive/notebooks/multispot_paper/out_notebooks/Multi-spot 5-Samples analysis - Leakage coefficient fit-out.ipynb"
      ]
     },
     "metadata": {},
     "output_type": "display_data"
    }
   ],
   "source": [
    "run_notebook('Multi-spot 5-Samples analysis - Leakage coefficient fit')"
   ]
  },
  {
   "cell_type": "markdown",
   "metadata": {},
   "source": [
    "This saves the following tables for leakage coefficients and number of bursts:\n",
    "\n",
    "- [Multi-spot - leakage coefficient all values gauss DexDem.csv](results/Multi-spot - leakage coefficient all values gauss DexDem.csv)\n",
    "- [Multi-spot - leakage coefficient all values KDE DexDem.csv](results/Multi-spot - leakage coefficient all values KDE DexDem.csv)\n",
    "- [Multi-spot - leakage coefficient all values nbursts DexDem.csv](results/Multi-spot - leakage coefficient all values nbursts DexDem.csv)\n",
    "\n",
    "Next, we take sample-wise or channel-wise averages and plot summaries:"
   ]
  },
  {
   "cell_type": "code",
   "execution_count": 21,
   "metadata": {
    "scrolled": true
   },
   "outputs": [
    {
     "data": {
      "text/html": [
       "<b>Source Notebook</b>: <a href='Multi-spot 5-Samples analysis - Leakage coefficient - Summary.ipynb' target='_blank'>Multi-spot 5-Samples analysis - Leakage coefficient - Summary.ipynb</a><br>"
      ],
      "text/plain": [
       "/Users/anto/Google Drive/notebooks/multispot_paper/Multi-spot 5-Samples analysis - Leakage coefficient - Summary.ipynb"
      ]
     },
     "metadata": {},
     "output_type": "display_data"
    },
    {
     "data": {
      "text/html": [
       "<b>Output Notebook</b>: <a href='out_notebooks/Multi-spot 5-Samples analysis - Leakage coefficient - Summary-out.ipynb' target='_blank'>out_notebooks/Multi-spot 5-Samples analysis - Leakage coefficient - Summary-out.ipynb</a><br>"
      ],
      "text/plain": [
       "/Users/anto/Google Drive/notebooks/multispot_paper/out_notebooks/Multi-spot 5-Samples analysis - Leakage coefficient - Summary-out.ipynb"
      ]
     },
     "metadata": {},
     "output_type": "display_data"
    }
   ],
   "source": [
    "run_notebook('Multi-spot 5-Samples analysis - Leakage coefficient - Summary')"
   ]
  },
  {
   "cell_type": "markdown",
   "metadata": {},
   "source": [
    "This saves the following tables of averages leakage coefficients:\n",
    "\n",
    "- [Multi-spot - leakage coefficient mean per-ch KDE DexDem.csv](results/Multi-spot - leakage coefficient mean per-ch KDE DexDem.csv)\n",
    "- [Multi-spot - leakage coefficient mean per-sample KDE DexDem.csv](results/Multi-spot - leakage coefficient mean per-sample KDE DexDem.csv)\n",
    "- [Multi-spot - leakage coefficient KDE wmean DexDem.csv](results/Multi-spot - leakage coefficient KDE wmean DexDem.csv)"
   ]
  },
  {
   "cell_type": "markdown",
   "metadata": {},
   "source": [
    "<img src=\"figures/multi-spot leakage KDE 2panels.png\" width=\"500\">\n",
    "\n",
    ">**Figure 5.** Leakage coefficient for different samples and spots. \n",
    "\n",
    "### Figure provenance\n",
    "\n",
    "All data comes from the numerical tables linked above."
   ]
  },
  {
   "cell_type": "markdown",
   "metadata": {},
   "source": [
    "## Burst statistics vs spot"
   ]
  },
  {
   "cell_type": "code",
   "execution_count": 22,
   "metadata": {},
   "outputs": [
    {
     "data": {
      "text/html": [
       "<b>Source Notebook</b>: <a href='Multi-spot 5-Samples analysis - Burst Statistics.ipynb' target='_blank'>Multi-spot 5-Samples analysis - Burst Statistics.ipynb</a><br>"
      ],
      "text/plain": [
       "/Users/anto/Google Drive/notebooks/multispot_paper/Multi-spot 5-Samples analysis - Burst Statistics.ipynb"
      ]
     },
     "metadata": {},
     "output_type": "display_data"
    },
    {
     "data": {
      "text/html": [
       "<b>Output Notebook</b>: <a href='out_notebooks/Multi-spot 5-Samples analysis - Burst Statistics-out.ipynb' target='_blank'>out_notebooks/Multi-spot 5-Samples analysis - Burst Statistics-out.ipynb</a><br>"
      ],
      "text/plain": [
       "/Users/anto/Google Drive/notebooks/multispot_paper/out_notebooks/Multi-spot 5-Samples analysis - Burst Statistics-out.ipynb"
      ]
     },
     "metadata": {},
     "output_type": "display_data"
    }
   ],
   "source": [
    "run_notebook('Multi-spot 5-Samples analysis - Burst Statistics')"
   ]
  },
  {
   "cell_type": "markdown",
   "metadata": {},
   "source": [
    "<img src=\"figures/8spot 5-dsDNA samples burst-stats vs ch F=6, R=25kcps lk=3.3 na=[-12,12] DexDem nt1=50 w1=1.0ms p1=310kcps.png\" width=\"500\">\n",
    "\n",
    ">**Figure 4.** Burst statistics versus spot.\n",
    "\n",
    "### Figure provenance\n",
    "\n",
    "File name (recording processing parameters):\n",
    "\n",
    "- `8spot 5-dsDNA samples burst-stats vs ch F=6, R=25kcps lk=3.3 na=[-12,12] DexDem nt1=50 w1=1.0ms p1=310kcps.png`"
   ]
  },
  {
   "cell_type": "markdown",
   "metadata": {},
   "source": [
    "## Burst statistics vs usALEX"
   ]
  },
  {
   "cell_type": "code",
   "execution_count": 23,
   "metadata": {},
   "outputs": [
    {
     "data": {
      "text/html": [
       "<b>Source Notebook</b>: <a href='dsDNA - Burst Statistics - MultiSpot-vs-SingleSpot.ipynb' target='_blank'>dsDNA - Burst Statistics - MultiSpot-vs-SingleSpot.ipynb</a><br>"
      ],
      "text/plain": [
       "/Users/anto/Google Drive/notebooks/multispot_paper/dsDNA - Burst Statistics - MultiSpot-vs-SingleSpot.ipynb"
      ]
     },
     "metadata": {},
     "output_type": "display_data"
    },
    {
     "data": {
      "text/html": [
       "<b>Output Notebook</b>: <a href='out_notebooks/dsDNA - Burst Statistics - MultiSpot-vs-SingleSpot-out.ipynb' target='_blank'>out_notebooks/dsDNA - Burst Statistics - MultiSpot-vs-SingleSpot-out.ipynb</a><br>"
      ],
      "text/plain": [
       "/Users/anto/Google Drive/notebooks/multispot_paper/out_notebooks/dsDNA - Burst Statistics - MultiSpot-vs-SingleSpot-out.ipynb"
      ]
     },
     "metadata": {},
     "output_type": "display_data"
    }
   ],
   "source": [
    "run_notebook('dsDNA - Burst Statistics - MultiSpot-vs-SingleSpot')"
   ]
  },
  {
   "cell_type": "markdown",
   "metadata": {},
   "source": [
    "<img src=\"figures/na distribution usALEX vs multispot, size_th=15.png\" width=\"400\">\n",
    "<img src=\"figures/width_ms distribution usALEX vs multispot mean, size_th=15.png\" width=\"400\">\n",
    "<img src=\"figures/max_rate_Aem distribution usALEX vs multispot, size_th=15.png\" width=\"400\">\n",
    "\n",
    ">**Figure 7.** µs-ALEX vs multispot burst data distributions."
   ]
  },
  {
   "cell_type": "markdown",
   "metadata": {
    "internals": {},
    "slideshow": {
     "slide_type": "-"
    }
   },
   "source": [
    "## PR and FRET analysis"
   ]
  },
  {
   "cell_type": "markdown",
   "metadata": {
    "internals": {},
    "slideshow": {
     "slide_type": "-"
    }
   },
   "source": [
    "Then we perform the complete burst analysis by running:"
   ]
  },
  {
   "cell_type": "code",
   "execution_count": 24,
   "metadata": {
    "internals": {},
    "slideshow": {
     "slide_type": "-"
    }
   },
   "outputs": [
    {
     "data": {
      "text/html": [
       "<b>Source Notebook</b>: <a href='Multi-spot 5-Samples analysis - PR-raw.ipynb' target='_blank'>Multi-spot 5-Samples analysis - PR-raw.ipynb</a><br>"
      ],
      "text/plain": [
       "/Users/anto/Google Drive/notebooks/multispot_paper/Multi-spot 5-Samples analysis - PR-raw.ipynb"
      ]
     },
     "metadata": {},
     "output_type": "display_data"
    },
    {
     "data": {
      "text/html": [
       "<b>Output Notebook</b>: <a href='out_notebooks/Multi-spot 5-Samples analysis - PR-raw-out.ipynb' target='_blank'>out_notebooks/Multi-spot 5-Samples analysis - PR-raw-out.ipynb</a><br>"
      ],
      "text/plain": [
       "/Users/anto/Google Drive/notebooks/multispot_paper/out_notebooks/Multi-spot 5-Samples analysis - PR-raw-out.ipynb"
      ]
     },
     "metadata": {},
     "output_type": "display_data"
    }
   ],
   "source": [
    "run_notebook('Multi-spot 5-Samples analysis - PR-raw')"
   ]
  },
  {
   "cell_type": "markdown",
   "metadata": {},
   "source": [
    "The previous notebook saves the tables:\n",
    "\n",
    "- [Multi-spot - dsDNA - PR - all_samples all_ch.csv](results/Multi-spot - dsDNA - PR - all_samples all_ch.csv):\n",
    "  PR values for all channels and all samples obtained from Gaussian fit.\n",
    "- [Multi-spot - dsDNA - nbursts - all_samples all_ch.csv](results/Multi-spot - dsDNA - nbursts - all_samples all_ch.csv): Number of bursts for all channels and all samples"
   ]
  },
  {
   "cell_type": "markdown",
   "metadata": {},
   "source": [
    "Gamma fitting for the multispot is perfomed here:"
   ]
  },
  {
   "cell_type": "code",
   "execution_count": 25,
   "metadata": {},
   "outputs": [
    {
     "data": {
      "text/html": [
       "<b>Source Notebook</b>: <a href='Multi-spot Gamma Fitting.ipynb' target='_blank'>Multi-spot Gamma Fitting.ipynb</a><br>"
      ],
      "text/plain": [
       "/Users/anto/Google Drive/notebooks/multispot_paper/Multi-spot Gamma Fitting.ipynb"
      ]
     },
     "metadata": {},
     "output_type": "display_data"
    },
    {
     "data": {
      "text/html": [
       "<b>Output Notebook</b>: <a href='out_notebooks/Multi-spot Gamma Fitting-out.ipynb' target='_blank'>out_notebooks/Multi-spot Gamma Fitting-out.ipynb</a><br>"
      ],
      "text/plain": [
       "/Users/anto/Google Drive/notebooks/multispot_paper/out_notebooks/Multi-spot Gamma Fitting-out.ipynb"
      ]
     },
     "metadata": {},
     "output_type": "display_data"
    }
   ],
   "source": [
    "run_notebook('Multi-spot Gamma Fitting')"
   ]
  },
  {
   "cell_type": "markdown",
   "metadata": {},
   "source": [
    "The previous notebooks saves:\n",
    "\n",
    "- [Multi-spot - dsDNA - Corrected E - all_samples all_ch.csv](results/Multi-spot - dsDNA - Corrected E - all_samples all_ch.csv)\n",
    "- [Multi-spot - gamma factor.csv](results/Multi-spot - gamma factor.csv)"
   ]
  },
  {
   "cell_type": "markdown",
   "metadata": {
    "internals": {
     "slide_helper": "subslide_end"
    },
    "slide_helper": "slide_end",
    "slideshow": {
     "slide_type": "-"
    }
   },
   "source": [
    "# FRET vs distance figure\n",
    "\n",
    "This notebooks created the FRET vs distance figure:"
   ]
  },
  {
   "cell_type": "code",
   "execution_count": 26,
   "metadata": {},
   "outputs": [
    {
     "data": {
      "text/html": [
       "<b>Source Notebook</b>: <a href='Figure - FRET vs distance.ipynb' target='_blank'>Figure - FRET vs distance.ipynb</a><br>"
      ],
      "text/plain": [
       "/Users/anto/Google Drive/notebooks/multispot_paper/Figure - FRET vs distance.ipynb"
      ]
     },
     "metadata": {},
     "output_type": "display_data"
    },
    {
     "data": {
      "text/html": [
       "<b>Output Notebook</b>: <a href='out_notebooks/Figure - FRET vs distance-out.ipynb' target='_blank'>out_notebooks/Figure - FRET vs distance-out.ipynb</a><br>"
      ],
      "text/plain": [
       "/Users/anto/Google Drive/notebooks/multispot_paper/out_notebooks/Figure - FRET vs distance-out.ipynb"
      ]
     },
     "metadata": {},
     "output_type": "display_data"
    }
   ],
   "source": [
    "run_notebook('Figure - FRET vs distance')"
   ]
  },
  {
   "cell_type": "markdown",
   "metadata": {},
   "source": [
    "<img src=\"figures/multi-spot E vs distance.png\" width=\"400\">\n",
    "\n",
    ">**Figure 6.** FRET efficiency versus dye separation for the multispot experiments.\n",
    "\n",
    "### Figure provenance\n",
    "\n",
    "Data:\n",
    "- [Multi-spot - dsDNA - Corrected E - all_samples all_ch.csv](results/Multi-spot - dsDNA - Corrected E - all_samples all_ch.csv) computed in section [PR and FRET analysis](#PR-and-FRET-analysis)\n",
    "- [usALEX-5samples-E-corrected-all-ph.csv](results/usALEX-5samples-E-corrected-all-ph.csv)\n"
   ]
  },
  {
   "cell_type": "markdown",
   "metadata": {},
   "source": [
    "# Multispot vs usALEX FRET histograms"
   ]
  },
  {
   "cell_type": "code",
   "execution_count": 8,
   "metadata": {},
   "outputs": [
    {
     "data": {
      "text/html": [
       "<b>Source Notebook</b>: <a href='Multi-spot vs usALEX FRET histogram comparison.ipynb' target='_blank'>Multi-spot vs usALEX FRET histogram comparison.ipynb</a><br>"
      ],
      "text/plain": [
       "/Users/anto/Google Drive/notebooks/multispot_paper/Multi-spot vs usALEX FRET histogram comparison.ipynb"
      ]
     },
     "metadata": {},
     "output_type": "display_data"
    },
    {
     "data": {
      "text/html": [
       "<ul>"
      ],
      "text/plain": [
       "<IPython.core.display.HTML object>"
      ]
     },
     "metadata": {},
     "output_type": "display_data"
    },
    {
     "data": {
      "text/html": [
       "<li><b>Output Notebook</b> (7d): <a href='out_notebooks/Multi-spot vs usALEX FRET histogram comparison-out-7d.ipynb' target='_blank'>out_notebooks/Multi-spot vs usALEX FRET histogram comparison-out-7d.ipynb</a><br>"
      ],
      "text/plain": [
       "/Users/anto/Google Drive/notebooks/multispot_paper/out_notebooks/Multi-spot vs usALEX FRET histogram comparison-out-7d.ipynb"
      ]
     },
     "metadata": {},
     "output_type": "display_data"
    },
    {
     "data": {
      "text/html": [
       "<li><b>Output Notebook</b> (12d): <a href='out_notebooks/Multi-spot vs usALEX FRET histogram comparison-out-12d.ipynb' target='_blank'>out_notebooks/Multi-spot vs usALEX FRET histogram comparison-out-12d.ipynb</a><br>"
      ],
      "text/plain": [
       "/Users/anto/Google Drive/notebooks/multispot_paper/out_notebooks/Multi-spot vs usALEX FRET histogram comparison-out-12d.ipynb"
      ]
     },
     "metadata": {},
     "output_type": "display_data"
    },
    {
     "data": {
      "text/html": [
       "<li><b>Output Notebook</b> (17d): <a href='out_notebooks/Multi-spot vs usALEX FRET histogram comparison-out-17d.ipynb' target='_blank'>out_notebooks/Multi-spot vs usALEX FRET histogram comparison-out-17d.ipynb</a><br>"
      ],
      "text/plain": [
       "/Users/anto/Google Drive/notebooks/multispot_paper/out_notebooks/Multi-spot vs usALEX FRET histogram comparison-out-17d.ipynb"
      ]
     },
     "metadata": {},
     "output_type": "display_data"
    },
    {
     "data": {
      "text/html": [
       "<li><b>Output Notebook</b> (22d): <a href='out_notebooks/Multi-spot vs usALEX FRET histogram comparison-out-22d.ipynb' target='_blank'>out_notebooks/Multi-spot vs usALEX FRET histogram comparison-out-22d.ipynb</a><br>"
      ],
      "text/plain": [
       "/Users/anto/Google Drive/notebooks/multispot_paper/out_notebooks/Multi-spot vs usALEX FRET histogram comparison-out-22d.ipynb"
      ]
     },
     "metadata": {},
     "output_type": "display_data"
    },
    {
     "data": {
      "text/html": [
       "<li><b>Output Notebook</b> (27d): <a href='out_notebooks/Multi-spot vs usALEX FRET histogram comparison-out-27d.ipynb' target='_blank'>out_notebooks/Multi-spot vs usALEX FRET histogram comparison-out-27d.ipynb</a><br>"
      ],
      "text/plain": [
       "/Users/anto/Google Drive/notebooks/multispot_paper/out_notebooks/Multi-spot vs usALEX FRET histogram comparison-out-27d.ipynb"
      ]
     },
     "metadata": {},
     "output_type": "display_data"
    },
    {
     "data": {
      "text/html": [
       "</ul>"
      ],
      "text/plain": [
       "<IPython.core.display.HTML object>"
      ]
     },
     "metadata": {},
     "output_type": "display_data"
    }
   ],
   "source": [
    "nb_name = 'Multi-spot vs usALEX FRET histogram comparison'\n",
    "run_notebook_template(nb_name, save_data=False)"
   ]
  },
  {
   "cell_type": "markdown",
   "metadata": {},
   "source": [
    "<img src=\"figures/Multispot vs usALEX FRET hist comp sample 7d.png\" width=\"300\">\n",
    "<img src=\"figures/Multispot vs usALEX FRET hist comp sample 12d.png\" width=\"300\">\n",
    "<img src=\"figures/Multispot vs usALEX FRET hist comp sample 17d.png\" width=\"300\">\n",
    "<img src=\"figures/Multispot vs usALEX FRET hist comp sample 22d.png\" width=\"300\">\n",
    "<img src=\"figures/Multispot vs usALEX FRET hist comp sample 27d.png\" width=\"300\">"
   ]
  },
  {
   "cell_type": "markdown",
   "metadata": {},
   "source": [
    "> **NOTE**: Due to different concentrations and background levels, the comparison of FRET histograms\n",
    "> is only qualitative. In particular,  even though the duration of the multispot measurements are\n",
    "> exactly 1/8 the duration of the μs-ALEX measurements, the number of bursts cannot be directly compared\n",
    "> due to different burst rates."
   ]
  }
 ],
 "metadata": {
  "anaconda-cloud": {},
  "kernelspec": {
   "display_name": "Python [conda env:multispot_paper]",
   "language": "python",
   "name": "conda-env-multispot_paper-py"
  },
  "language_info": {
   "codemirror_mode": {
    "name": "ipython",
    "version": 3
   },
   "file_extension": ".py",
   "mimetype": "text/x-python",
   "name": "python",
   "nbconvert_exporter": "python",
   "pygments_lexer": "ipython3",
   "version": "3.5.2"
  },
  "nav_menu": {},
  "toc": {
   "colors": {
    "hover_highlight": "#DAA520",
    "running_highlight": "#FF0000",
    "selected_highlight": "#FFD700"
   },
   "moveMenuLeft": true,
   "nav_menu": {
    "height": "512px",
    "width": "252px"
   },
   "navigate_menu": true,
   "number_sections": false,
   "sideBar": true,
   "threshold": 4,
   "toc_cell": false,
   "toc_section_display": "block",
   "toc_window_display": true,
   "widenNotebook": false
  },
  "toc_position": {
   "height": "869px",
   "left": "0px",
   "right": "1347px",
   "top": "106px",
   "width": "271px"
  }
 },
 "nbformat": 4,
 "nbformat_minor": 1
}
