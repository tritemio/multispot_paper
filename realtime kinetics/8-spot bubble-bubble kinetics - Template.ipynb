{
 "cells": [
  {
   "cell_type": "code",
   "execution_count": null,
   "metadata": {
    "collapsed": true
   },
   "outputs": [],
   "source": [
    "measurement_id = 0 # possible values: 0, 1, 2\n",
    "windows = (5, 30, 60)"
   ]
  },
  {
   "cell_type": "markdown",
   "metadata": {},
   "source": [
    "### Notebook arguments\n",
    "\n",
    "- **measurement_id** (*int*): Select the measurement. Valid values: 0, 1, 2.\n",
    "- **windows** (*tuple of ints*): List of integration window durations (seconds)."
   ]
  },
  {
   "cell_type": "markdown",
   "metadata": {},
   "source": [
    "# 8-spot kinetics\n",
    "\n",
    "<p class=\"lead\">This notebook executes the realtime-kinetics analysis.</p>\n",
    "\n",
    "The first cell of this notebook selects which measurement is analyzed. \n",
    "Measurements can be processed one-by-one, by manually running this notebook,\n",
    "or in batch by using the notebook: *\"8-spot bubble-bubble kinetics - Run-All\"*."
   ]
  },
  {
   "cell_type": "markdown",
   "metadata": {},
   "source": [
    "## Loading the software"
   ]
  },
  {
   "cell_type": "code",
   "execution_count": null,
   "metadata": {
    "collapsed": true
   },
   "outputs": [],
   "source": [
    "import time\n",
    "from pathlib import Path\n",
    "import pandas as pd\n",
    "from scipy.stats import linregress\n",
    "from IPython.display import display"
   ]
  },
  {
   "cell_type": "code",
   "execution_count": null,
   "metadata": {},
   "outputs": [],
   "source": [
    "from fretbursts import *"
   ]
  },
  {
   "cell_type": "code",
   "execution_count": null,
   "metadata": {},
   "outputs": [],
   "source": [
    "sns = init_notebook(fs=14)"
   ]
  },
  {
   "cell_type": "code",
   "execution_count": null,
   "metadata": {},
   "outputs": [],
   "source": [
    "import lmfit; lmfit.__version__"
   ]
  },
  {
   "cell_type": "code",
   "execution_count": null,
   "metadata": {},
   "outputs": [],
   "source": [
    "import phconvert; phconvert.__version__"
   ]
  },
  {
   "cell_type": "markdown",
   "metadata": {},
   "source": [
    "# Selecting a data file"
   ]
  },
  {
   "cell_type": "code",
   "execution_count": null,
   "metadata": {
    "collapsed": true
   },
   "outputs": [],
   "source": [
    "dir_ = 'data/multispot_'\n",
    "\n",
    "filenames = [\n",
    "    dir_+'2015-07-31_bubble-bubble-run-off-kinetics-800mW-steer110_12.hdf5',\n",
    "    dir_+'2015-07-29_bubble-bubble-open-complex-run-off-kinetics-600mW-steer110_7.hdf5',\n",
    "    dir_+'2015-07-30_bubble-bubble-run-off-kinetics-800mW-steer110_8.hdf5']\n",
    "\n",
    "start_times = [900, 600, 900] # time of NTP injection and start of kinetics"
   ]
  },
  {
   "cell_type": "code",
   "execution_count": null,
   "metadata": {},
   "outputs": [],
   "source": [
    "filename = filenames[measurement_id]\n",
    "start_time = start_times[measurement_id]"
   ]
  },
  {
   "cell_type": "code",
   "execution_count": null,
   "metadata": {},
   "outputs": [],
   "source": [
    "filename"
   ]
  },
  {
   "cell_type": "code",
   "execution_count": null,
   "metadata": {},
   "outputs": [],
   "source": [
    "import os\n",
    "assert os.path.exists(filename)"
   ]
  },
  {
   "cell_type": "markdown",
   "metadata": {},
   "source": [
    "## Data load and Burst search"
   ]
  },
  {
   "cell_type": "markdown",
   "metadata": {},
   "source": [
    "Load and process the data:"
   ]
  },
  {
   "cell_type": "code",
   "execution_count": null,
   "metadata": {},
   "outputs": [],
   "source": [
    "d = loader.photon_hdf5(filename)"
   ]
  },
  {
   "cell_type": "code",
   "execution_count": null,
   "metadata": {},
   "outputs": [],
   "source": [
    "d.time_max"
   ]
  },
  {
   "cell_type": "markdown",
   "metadata": {},
   "source": [
    "Compute background and burst search:"
   ]
  },
  {
   "cell_type": "code",
   "execution_count": null,
   "metadata": {},
   "outputs": [],
   "source": [
    "d.calc_bg(bg.exp_fit, time_s=10, tail_min_us='auto', F_bg=1.7)"
   ]
  },
  {
   "cell_type": "markdown",
   "metadata": {},
   "source": [
    "Perform a background plot as a function of the channel:"
   ]
  },
  {
   "cell_type": "code",
   "execution_count": null,
   "metadata": {},
   "outputs": [],
   "source": [
    "mch_plot_bg(d)"
   ]
  },
  {
   "cell_type": "markdown",
   "metadata": {},
   "source": [
    "Let's take a look at the photon waiting times histograms and at the fitted background rates:"
   ]
  },
  {
   "cell_type": "code",
   "execution_count": null,
   "metadata": {},
   "outputs": [],
   "source": [
    "dplot(d, hist_bg);"
   ]
  },
  {
   "cell_type": "markdown",
   "metadata": {},
   "source": [
    "Using `dplot` exactly in the same way as for the single-spot data has now generated 8 subplots, one for each channel.\n",
    "\n",
    "Let's plot a timetrace for the background to see is there are significat variations during the measurement:"
   ]
  },
  {
   "cell_type": "code",
   "execution_count": null,
   "metadata": {},
   "outputs": [],
   "source": [
    "dplot(d, timetrace_bg);\n",
    "xlim(start_time - 150, start_time + 150)"
   ]
  },
  {
   "cell_type": "markdown",
   "metadata": {},
   "source": [
    "We can look at the timetrace of the photon stream (binning):"
   ]
  },
  {
   "cell_type": "code",
   "execution_count": null,
   "metadata": {},
   "outputs": [],
   "source": [
    "#dplot(d, timetrace)\n",
    "#xlim(2, 3); ylim(-100, 100);"
   ]
  },
  {
   "cell_type": "markdown",
   "metadata": {},
   "source": [
    "## Burst selection and FRET"
   ]
  },
  {
   "cell_type": "code",
   "execution_count": null,
   "metadata": {},
   "outputs": [],
   "source": [
    "d.burst_search(m=10, F=5)"
   ]
  },
  {
   "cell_type": "code",
   "execution_count": null,
   "metadata": {
    "collapsed": true
   },
   "outputs": [],
   "source": [
    "ds = d.select_bursts(select_bursts.size, th1=30)"
   ]
  },
  {
   "cell_type": "markdown",
   "metadata": {},
   "source": [
    "### Selecting bursts by size"
   ]
  },
  {
   "cell_type": "code",
   "execution_count": null,
   "metadata": {},
   "outputs": [],
   "source": [
    "ds0 = ds.select_bursts(select_bursts.time, time_s1=0, time_s2=start_time-10)"
   ]
  },
  {
   "cell_type": "code",
   "execution_count": null,
   "metadata": {},
   "outputs": [],
   "source": [
    "dplot(ds0, hist_fret, pdf=False);"
   ]
  },
  {
   "cell_type": "code",
   "execution_count": null,
   "metadata": {
    "collapsed": true
   },
   "outputs": [],
   "source": [
    "dm0 = ds0.collapse()"
   ]
  },
  {
   "cell_type": "code",
   "execution_count": null,
   "metadata": {},
   "outputs": [],
   "source": [
    "dplot(dm0, hist_fret, pdf=False);"
   ]
  },
  {
   "cell_type": "code",
   "execution_count": null,
   "metadata": {},
   "outputs": [],
   "source": [
    "weights = 'size'\n",
    "bext.bursts_fitter(dm0, weights=weights)\n",
    "dm0.E_fitter.fit_histogram(mfit.factory_three_gaussians(p1_center=0.05, p2_center=0.6, p3_center=0.9), verbose=False)\n",
    "dplot(dm0, hist_fret, show_model=True, weights=weights);\n",
    "dm0.E_fitter.params"
   ]
  },
  {
   "cell_type": "code",
   "execution_count": null,
   "metadata": {},
   "outputs": [],
   "source": [
    "weights = None\n",
    "bext.bursts_fitter(dm0, weights=weights)\n",
    "dm0.E_fitter.fit_histogram(mfit.factory_three_gaussians(p1_center=0.05, p2_center=0.6, p3_center=0.9), verbose=False)\n",
    "dplot(dm0, hist_fret, show_model=True, weights=weights);\n",
    "dm0.E_fitter.params"
   ]
  },
  {
   "cell_type": "markdown",
   "metadata": {},
   "source": [
    "## 3-Gaussian peaks"
   ]
  },
  {
   "cell_type": "code",
   "execution_count": null,
   "metadata": {},
   "outputs": [],
   "source": [
    "def gauss3(**params0):\n",
    "    peak1 = lmfit.models.GaussianModel(prefix='p1_')\n",
    "    peak3 = lmfit.models.GaussianModel(prefix='p3_')\n",
    "    peak2 = lmfit.models.GaussianModel(prefix='p2_')\n",
    "    model = peak1 + peak2 + peak3\n",
    "    model.set_param_hint('p1_center', **{'value': 0.0, 'min': 0.0, 'max': 0.2, **params0.get('p1_center', {})})\n",
    "    model.set_param_hint('p2_center', **{'value': 0.5, 'min': 0.0, 'max': 1.0, **params0.get('p2_center', {})})\n",
    "    model.set_param_hint('p3_center', **{'value': 0.9, 'min': 0.8, 'max': 1.0, **params0.get('p3_center', {})})\n",
    "    for sigma in ['p%d_sigma' % i for i in (1, 2, 3)]:\n",
    "        model.set_param_hint(sigma, **{'value': 0.02, 'min': 0.01, **params0.get(sigma, {})})\n",
    "    for ampl in ['p%d_amplitude' % i for i in (1, 2, 3)]:\n",
    "        model.set_param_hint(ampl, **{'value': 0.333, 'min': 0.01, **params0.get(ampl, {})})\n",
    "    model.name = '3 gauss peaks'\n",
    "    return model"
   ]
  },
  {
   "cell_type": "code",
   "execution_count": null,
   "metadata": {
    "collapsed": true
   },
   "outputs": [],
   "source": [
    "#%matplotlib notebook"
   ]
  },
  {
   "cell_type": "code",
   "execution_count": null,
   "metadata": {},
   "outputs": [],
   "source": [
    "#fig, ax = plt.subplots(figsize=(12, 8))\n",
    "#dplot(dm0, scatter_fret_size, ax=ax)"
   ]
  },
  {
   "cell_type": "code",
   "execution_count": null,
   "metadata": {},
   "outputs": [],
   "source": [
    "bext.bursts_fitter(dm0, weights=None)\n",
    "dm0.E_fitter.fit_histogram(gauss3(), verbose=False)\n",
    "mfit.plot_mfit(dm0.E_fitter)\n",
    "params_3gauss = dm0.E_fitter.params\n",
    "plt.xlabel('E')\n",
    "plt.ylabel('PDF')\n",
    "plt.title('')\n",
    "#dir_ = r'C:\\Data\\Antonio\\docs\\conferences\\Seaborg2015\\figures/'\n",
    "#plt.savefig(dir_+'Realtime kinetics FRET hist', dpi=200, bbox_inches='tight')\n",
    "params_3gauss"
   ]
  },
  {
   "cell_type": "code",
   "execution_count": null,
   "metadata": {
    "collapsed": true
   },
   "outputs": [],
   "source": [
    "dsc = ds.collapse()"
   ]
  },
  {
   "cell_type": "code",
   "execution_count": null,
   "metadata": {},
   "outputs": [],
   "source": [
    "dm_final = dsc.select_bursts(select_bursts.time, time_s1=start_time+300, time_s2=ds.time_max + 1)\n",
    "dm_final.num_bursts"
   ]
  },
  {
   "cell_type": "code",
   "execution_count": null,
   "metadata": {},
   "outputs": [],
   "source": [
    "dm_final1 = dsc.select_bursts(select_bursts.time, time_s1=start_time+100, time_s2=start_time+1600)\n",
    "dm_final1.num_bursts"
   ]
  },
  {
   "cell_type": "code",
   "execution_count": null,
   "metadata": {},
   "outputs": [],
   "source": [
    "dm_final2 = dsc.select_bursts(select_bursts.time, time_s1=start_time + 2100, time_s2=ds.time_max + 1)\n",
    "dm_final2.num_bursts"
   ]
  },
  {
   "cell_type": "code",
   "execution_count": null,
   "metadata": {},
   "outputs": [],
   "source": [
    "bext.bursts_fitter(dm_final1, weights=None)\n",
    "model = gauss3()\n",
    "model.set_param_hint('p2_center', value=params_3gauss.p2_center[0], vary=False)\n",
    "dm_final1.E_fitter.fit_histogram(model, verbose=False)\n",
    "fig, ax = plt.subplots(figsize=(12, 6))\n",
    "mfit.plot_mfit(dm_final1.E_fitter, ax=ax)\n",
    "params_3gauss1 = dm_final1.E_fitter.params\n",
    "params_3gauss1"
   ]
  },
  {
   "cell_type": "code",
   "execution_count": null,
   "metadata": {},
   "outputs": [],
   "source": [
    "bext.bursts_fitter(dm_final2, weights=None)\n",
    "model = gauss3()\n",
    "model.set_param_hint('p2_center', value=params_3gauss.p2_center[0], vary=False)\n",
    "dm_final2.E_fitter.fit_histogram(model, verbose=False)\n",
    "fig, ax = plt.subplots(figsize=(12, 6))\n",
    "mfit.plot_mfit(dm_final2.E_fitter, ax=ax)\n",
    "params_3gauss1 = dm_final2.E_fitter.params\n",
    "params_3gauss1"
   ]
  },
  {
   "cell_type": "code",
   "execution_count": null,
   "metadata": {},
   "outputs": [],
   "source": [
    "bext.bursts_fitter(dm_final, weights=None)\n",
    "model = gauss3()\n",
    "model.set_param_hint('p2_center', value=params_3gauss.p2_center[0], vary=False)\n",
    "dm_final.E_fitter.fit_histogram(model, verbose=False)\n",
    "fig, ax = plt.subplots(figsize=(12, 6))\n",
    "mfit.plot_mfit(dm_final.E_fitter, ax=ax)\n",
    "params_3gauss1 = dm_final.E_fitter.params\n",
    "params_3gauss1"
   ]
  },
  {
   "cell_type": "code",
   "execution_count": null,
   "metadata": {},
   "outputs": [],
   "source": [
    "#del params_3gauss0"
   ]
  },
  {
   "cell_type": "code",
   "execution_count": null,
   "metadata": {},
   "outputs": [],
   "source": [
    "if 'params_3gauss0' not in locals():\n",
    "    params_3gauss0 = params_3gauss.copy()\n",
    "    params_3gauss0.p3_center = params_3gauss1.p3_center"
   ]
  },
  {
   "cell_type": "code",
   "execution_count": null,
   "metadata": {},
   "outputs": [],
   "source": [
    "params_3gauss0.p1_amplitude + params_3gauss0.p2_amplitude + params_3gauss0.p3_amplitude"
   ]
  },
  {
   "cell_type": "code",
   "execution_count": null,
   "metadata": {},
   "outputs": [],
   "source": [
    "'params_3gauss0' in locals()"
   ]
  },
  {
   "cell_type": "markdown",
   "metadata": {},
   "source": [
    "# Fit"
   ]
  },
  {
   "cell_type": "code",
   "execution_count": null,
   "metadata": {
    "collapsed": true
   },
   "outputs": [],
   "source": [
    "from scipy import optimize"
   ]
  },
  {
   "cell_type": "code",
   "execution_count": null,
   "metadata": {
    "collapsed": true
   },
   "outputs": [],
   "source": [
    "params_fixed = dict(\n",
    "    mu1=float(params_3gauss0.p1_center),\n",
    "    mu2=float(params_3gauss0.p2_center),\n",
    "    mu3=float(params_3gauss0.p3_center),\n",
    "    sig1=float(params_3gauss0.p1_sigma),\n",
    "    sig2=float(params_3gauss0.p2_sigma),\n",
    "    sig3=float(params_3gauss0.p3_sigma),\n",
    ")"
   ]
  },
  {
   "cell_type": "code",
   "execution_count": null,
   "metadata": {},
   "outputs": [],
   "source": [
    "def em_weights_3gauss(x, a2, a3, mu1, mu2, mu3, sig1, sig2, sig3):\n",
    "    \"\"\"Responsibility function for a 3-Gaussian model.\n",
    "    \n",
    "    Returns 3 arrays of size = x.size: the responsibility of \n",
    "    each Gaussian population.\n",
    "    \"\"\"\n",
    "    a1 = 1 - a2 - a3\n",
    "    assert np.abs(a1 + a2 + a3 - 1) < 1e-3\n",
    "    f1 = a1 * gauss_pdf(x, mu1, sig1)\n",
    "    f2 = a2 * gauss_pdf(x, mu2, sig2)\n",
    "    f3 = a3 * gauss_pdf(x, mu3, sig3)\n",
    "    γ1 = f1 / (f1 + f2 + f3)\n",
    "    γ2 = f2 / (f1 + f2 + f3)\n",
    "    γ3 = f3 / (f1 + f2 + f3)\n",
    "    return γ1, γ2, γ3\n",
    "\n",
    "def em_fit_3gauss(x, a2_0, a3_0, params_fixed, print_every=10, max_iter=100, rtol=1e-3):\n",
    "    \"\"\"Fit amplitude of 3_Gaussian model using Expectation-Maximization.\n",
    "    \n",
    "    Only 2 amplitudes are fitted (a2, a3), the first peak is derived imposing\n",
    "    that the PDF sums to 1.\n",
    "    \"\"\"\n",
    "    a2_new, a3_new = a2_0, a3_0\n",
    "    rel_change = 1\n",
    "    i = 0\n",
    "    while rel_change > rtol and i < max_iter:\n",
    "\n",
    "        # E-step\n",
    "        γ1, γ2, γ3 = em_weights_3gauss(x, a2_new, a3_new, **params_fixed)\n",
    "        assert np.allclose(γ1.sum() + γ2.sum() + γ3.sum(), x.size)\n",
    "\n",
    "        # M-step\n",
    "        a2_old, a3_old = a2_new, a3_new     \n",
    "        a2_new = γ2.sum()/γ2.size\n",
    "        a3_new = γ3.sum()/γ3.size\n",
    "\n",
    "        # Convergence\n",
    "        rel_change = (np.abs((a2_old - a2_new)/a2_new)\n",
    "                      + np.abs((a3_old - a3_new)/a3_new))\n",
    "        i += 1\n",
    "        if (i % print_every) == 0:\n",
    "            print(i, a2_new, a3_new, rel_change)\n",
    "        \n",
    "    return a2_new, a3_new, i"
   ]
  },
  {
   "cell_type": "code",
   "execution_count": null,
   "metadata": {},
   "outputs": [],
   "source": [
    "from matplotlib.pylab import normpdf as gauss_pdf\n",
    "\n",
    "# Model PDF to be maximized\n",
    "def model_pdf(x, a2, a3, mu1, mu2, mu3, sig1, sig2, sig3):\n",
    "    a1 = 1 - a2 - a3\n",
    "    #assert np.abs(a1 + a2 + a3 - 1) < 1e-3\n",
    "    return (a1 * gauss_pdf(x, mu1, sig1) + \n",
    "            a2 * gauss_pdf(x, mu2, sig2) + \n",
    "            a3 * gauss_pdf(x, mu3, sig3))\n",
    "\n",
    "# Function to be minimized by lmfit\n",
    "def func2min_lmfit(params, x):\n",
    "    a2 = params['a2'].value\n",
    "    a3 = params['a3'].value\n",
    "    mu1 = params['mu1'].value\n",
    "    mu2 = params['mu2'].value\n",
    "    mu3 = params['mu3'].value\n",
    "    sig1 = params['sig1'].value\n",
    "    sig2 = params['sig2'].value\n",
    "    sig3 = params['sig3'].value\n",
    "    return -np.sqrt(np.log(model_pdf(x, a2, a3, mu1, mu2, mu3, sig1, sig2, sig3)))\n",
    "\n",
    "# Function to be minimized by scipy\n",
    "def func2min_scipy(params_fit, params_fixed, x):\n",
    "    a2, a3 = params_fit\n",
    "    mu1 = params_fixed['mu1']\n",
    "    mu2 = params_fixed['mu2']\n",
    "    mu3 = params_fixed['mu3']\n",
    "    sig1 = params_fixed['sig1']\n",
    "    sig2 = params_fixed['sig2']\n",
    "    sig3 = params_fixed['sig3']\n",
    "    return -np.log(model_pdf(x, a2, a3, mu1, mu2, mu3, sig1, sig2, sig3)).sum()\n",
    "\n",
    "# create a set of Parameters\n",
    "params = lmfit.Parameters()\n",
    "params.add('a2', value=0.33, min=0)\n",
    "params.add('a3', value=0.33, min=0)\n",
    "for k, v in params_fixed.items():\n",
    "    params.add(k, value=v, vary=False)"
   ]
  },
  {
   "cell_type": "markdown",
   "metadata": {},
   "source": [
    "$$f(x) = \\frac{A}{\\sigma\\sqrt{2\\pi}}\\, e^{-\\frac{(x - \\mu)^2}{2 \\sigma^2}}$$\n",
    "\n",
    "$$\\log f(x) = \\log \\frac{A}{\\sigma\\sqrt{2\\pi}}\\, e^{-\\frac{(x - \\mu)^2}{2 \\sigma^2}} = \\log{A} -\\log{\\sigma} - \\log\\sqrt{2\\pi} -\\frac{(x - \\mu)^2}{2 \\sigma^2}$$\n",
    "\n",
    "$$w_1 \\; f_1(x) + w_2 \\; f_2(x) + w_3 \\; f_3(x)$$\n",
    "\n",
    "$$\\log (w_1 \\; f_1(x)) = \\log{w_1} + \\log{f_1(x)}$$\n"
   ]
  },
  {
   "cell_type": "code",
   "execution_count": null,
   "metadata": {},
   "outputs": [],
   "source": [
    "x = dm0.E[0]\n",
    "x\n",
    "\n",
    "#result = lmfit.minimize(func2min_lmfit, params, args=(x,), method='nelder')\n",
    "#lmfit.report_fit(result.params)"
   ]
  },
  {
   "cell_type": "code",
   "execution_count": null,
   "metadata": {},
   "outputs": [],
   "source": [
    "#optimize.brute(func2min_scipy, ranges=((0.01, 0.99), (0.01, 0.99)), Ns=101, args=(params, x))"
   ]
  },
  {
   "cell_type": "code",
   "execution_count": null,
   "metadata": {},
   "outputs": [],
   "source": [
    "res = optimize.minimize(func2min_scipy, x0=[0.33, 0.33], args=(params_fixed, x), method='Nelder-Mead')\n",
    "res"
   ]
  },
  {
   "cell_type": "code",
   "execution_count": null,
   "metadata": {},
   "outputs": [],
   "source": [
    "res = optimize.minimize(func2min_scipy, x0=[0.33, 0.33], args=(params_fixed, x), bounds=((0,1), (0,1)), method='SLSQP')\n",
    "res"
   ]
  },
  {
   "cell_type": "code",
   "execution_count": null,
   "metadata": {},
   "outputs": [],
   "source": [
    "res = optimize.minimize(func2min_scipy, x0=[0.33, 0.33], args=(params_fixed, x), bounds=((0,1), (0,1)), method='TNC')\n",
    "res"
   ]
  },
  {
   "cell_type": "code",
   "execution_count": null,
   "metadata": {},
   "outputs": [],
   "source": [
    "bins = np.arange(-0.1, 1.1, 0.025)\n",
    "plt.hist(x, bins, histtype='step', lw=2, normed=True);\n",
    "xx = np.arange(-0.1, 1.1, 0.005)\n",
    "#plt.plot(xx, model_pdf(xx, params))\n",
    "plt.plot(xx, model_pdf(xx, a2=res.x[0], a3=res.x[1], **params_fixed))"
   ]
  },
  {
   "cell_type": "markdown",
   "metadata": {},
   "source": [
    "# Kinetics\n",
    "\n",
    "## Definitions"
   ]
  },
  {
   "cell_type": "code",
   "execution_count": null,
   "metadata": {},
   "outputs": [],
   "source": [
    "def _kinetics_fit_em(dx, a2_0, a3_0, params_fixed, **kwargs):\n",
    "    kwargs = {'max_iter': 200, 'print_every': 201, **kwargs}\n",
    "    a2, a3, i = em_fit_3gauss(dx.E[0], a2_0, a3_0, params_fixed, **kwargs)\n",
    "    return a2, a3, i < kwargs['max_iter']\n",
    "\n",
    "def _kinetics_fit_ll(dx, a2_0, a3_0, params_fixed, **kwargs):\n",
    "    kwargs = {'method':'Nelder-Mead', **kwargs}\n",
    "    res = optimize.minimize(func2min_scipy, x0=[a2_0, a3_0], args=(params_fixed, dx.E[0]), \n",
    "                            **kwargs)\n",
    "    return res.x[0], res.x[1], res.success\n",
    "    \n",
    "def _kinetics_fit_hist(dx, a2_0, a3_0, params_fixed):\n",
    "    E_fitter = bext.bursts_fitter(dx)\n",
    "    model = gauss3(p1_amplitude={'value': 1 - a2_0 - a3_0}, \n",
    "                   p2_amplitude={'value': a2_0}, \n",
    "                   p3_amplitude={'value': a3_0})\n",
    "    model.set_param_hint('p1_center', value=params_fixed['mu1'], vary=False)\n",
    "    model.set_param_hint('p2_center', value=params_fixed['mu2'], vary=False)\n",
    "    model.set_param_hint('p3_center', value=params_fixed['mu3'], vary=False)\n",
    "    model.set_param_hint('p1_sigma', value=params_fixed['sig1'], vary=False)\n",
    "    model.set_param_hint('p2_sigma', value=params_fixed['sig2'], vary=False)\n",
    "    model.set_param_hint('p3_sigma', value=params_fixed['sig3'], vary=False)    \n",
    "    E_fitter.fit_histogram(model, verbose=False)\n",
    "    return (float(E_fitter.params.p2_amplitude), \n",
    "            float(E_fitter.params.p3_amplitude), \n",
    "            dx.E_fitter.fit_res[0].success)\n",
    "    \n",
    "def kinetics_fit(ds_slices, params_fixed, a2_0=0.33, a3_0=0.33, method='em', **method_kws):\n",
    "    fit_func = {\n",
    "        'em': _kinetics_fit_em, \n",
    "        'll': _kinetics_fit_ll,\n",
    "        'hist': _kinetics_fit_hist}\n",
    "    \n",
    "    fit_list = []\n",
    "    for dx in ds_slices:\n",
    "        a2, a3, success = fit_func[method](dx, a2_0, a3_0, params_fixed, **method_kws)\n",
    "        df_i = pd.DataFrame(data=dict(p2_amplitude=a2, p3_amplitude=a3, \n",
    "                                      p1_center=params_fixed['mu1'], p2_center=params_fixed['mu2'], \n",
    "                                      p3_center=params_fixed['mu3'], p1_sigma=params_fixed['sig1'],\n",
    "                                      p2_sigma=params_fixed['sig2'], p3_sigma=params_fixed['sig3'],\n",
    "                                      tstart=dx.slice_tstart, tstop=dx.slice_tstop, \n",
    "                                      tmean=0.5*(dx.slice_tstart + dx.slice_tstop)), \n",
    "                            index=[0.5*(dx.slice_tstart + dx.slice_tstop)])\n",
    "        if not success:\n",
    "            print('* ', end='', flush=True)\n",
    "            continue \n",
    "        fit_list.append(df_i)\n",
    "    return pd.concat(fit_list)"
   ]
  },
  {
   "cell_type": "code",
   "execution_count": null,
   "metadata": {},
   "outputs": [],
   "source": [
    "start_time/60"
   ]
  },
  {
   "cell_type": "markdown",
   "metadata": {},
   "source": [
    "## Moving-window processing"
   ]
  },
  {
   "cell_type": "code",
   "execution_count": null,
   "metadata": {
    "collapsed": true
   },
   "outputs": [],
   "source": [
    "def print_slices(moving_window_params):\n",
    "    msg = ' - Slicing measurement:'\n",
    "    for name in ('start', 'stop', 'step', 'window'):\n",
    "        msg += ' %s = %.1fs' % (name, moving_window_params[name]) \n",
    "    print(msg, flush=True)\n",
    "    num_slices = len(bext.moving_window_startstop(**moving_window_params))\n",
    "    print('   Number of slices %d' % num_slices, flush=True)"
   ]
  },
  {
   "cell_type": "code",
   "execution_count": null,
   "metadata": {},
   "outputs": [],
   "source": [
    "t1 = time.time()\n",
    "time.ctime()"
   ]
  },
  {
   "cell_type": "code",
   "execution_count": null,
   "metadata": {
    "collapsed": true
   },
   "outputs": [],
   "source": [
    "dsc = ds.collapse()\n",
    "dsc.calc_max_rate(m=10)\n",
    "dsc_high = dsc.select_bursts(select_bursts.E, E1=0.88)"
   ]
  },
  {
   "cell_type": "code",
   "execution_count": null,
   "metadata": {
    "scrolled": false
   },
   "outputs": [],
   "source": [
    "step = 1\n",
    "params = {}\n",
    "for window in windows:\n",
    "    moving_window_params = dict(start=0, stop=dsc.time_max, step=step, window=window)\n",
    "    print_slices(moving_window_params)\n",
    "\n",
    "    ds_slices = bext.moving_window_chunks(dsc, time_zero=start_time, **moving_window_params)\n",
    "    for meth in ['em', 'll', 'hist']:\n",
    "        print('    >>> Fitting method %s ' % meth, end='', flush=True)\n",
    "        p = kinetics_fit(ds_slices, params_fixed, method=meth)\n",
    "        print(flush=True)\n",
    "        p['kinetics'] = p.p3_amplitude / (p.p2_amplitude + p.p3_amplitude)\n",
    "        p = p.round(dict(p1_center=3, p1_sigma=4, p2_amplitude=4, p2_center=3, p2_sigma=4, kinetics=4,\n",
    "                         p3_amplitude=4, p3_center=3, p3_sigma=4))\n",
    "        params[meth, window, step] = p"
   ]
  },
  {
   "cell_type": "code",
   "execution_count": null,
   "metadata": {},
   "outputs": [],
   "source": [
    "print('Moving-window processing duration: %d seconds.' % (time.time() - t1))"
   ]
  },
  {
   "cell_type": "markdown",
   "metadata": {},
   "source": [
    "## Burst-data"
   ]
  },
  {
   "cell_type": "code",
   "execution_count": null,
   "metadata": {},
   "outputs": [],
   "source": [
    "moving_window_params['window'] = 30\n",
    "moving_window_params"
   ]
  },
  {
   "cell_type": "code",
   "execution_count": null,
   "metadata": {},
   "outputs": [],
   "source": [
    "ds_slices = bext.moving_window_chunks(dsc, **moving_window_params)\n",
    "ds_slices_high = bext.moving_window_chunks(dsc_high, **moving_window_params)\n",
    "\n",
    "df = bext.moving_window_dataframe(**moving_window_params) - start_time\n",
    "df['size_mean'] = [di.nt_.mean() for di in ds_slices]\n",
    "df['size_max'] = [di.nt_.max() for di in ds_slices]\n",
    "df['num_bursts'] = [di.num_bursts[0] for di in ds_slices]\n",
    "df['burst_width'] = [di.mburst_.width.mean()*di.clk_p*1e3 for di in ds_slices]\n",
    "df['burst_width_high'] = [di.mburst_.width.mean()*di.clk_p*1e3 for di in ds_slices_high]\n",
    "df['phrate_mean'] = [di.max_rate_.mean() for di in ds_slices]"
   ]
  },
  {
   "cell_type": "code",
   "execution_count": null,
   "metadata": {},
   "outputs": [],
   "source": [
    "df = df.round(dict(tmean=1, tstart=1, tstop=1, size_mean=2, size_max=1, \n",
    "                   burst_width=2, burst_width_high=2, phrate_mean=1))\n",
    "df"
   ]
  },
  {
   "cell_type": "code",
   "execution_count": null,
   "metadata": {},
   "outputs": [],
   "source": [
    "labels = ('num_bursts', 'burst_width', 'phrate_mean')\n",
    "fig, axes = plt.subplots(len(labels), 1, figsize=(12, 3*len(labels)))\n",
    "\n",
    "for ax, label in zip(axes, labels):\n",
    "    ax.plot(label, data=df)\n",
    "    ax.legend(loc='best')\n",
    "    #ax.set_ylim(0)"
   ]
  },
  {
   "cell_type": "code",
   "execution_count": null,
   "metadata": {},
   "outputs": [],
   "source": [
    "# %%timeit -n1 -r1\n",
    "# meth = 'em'\n",
    "# print('    >>> Fitting method %s' % meth, flush=True)\n",
    "# p = kinetics_fit(ds_slices, params_fixed, method=meth)"
   ]
  },
  {
   "cell_type": "code",
   "execution_count": null,
   "metadata": {},
   "outputs": [],
   "source": [
    "# %%timeit -n1 -r1\n",
    "# meth = 'hist'\n",
    "# print('    >>> Fitting method %s' % meth, flush=True)\n",
    "# p = kinetics_fit(ds_slices, params_fixed, method=meth)"
   ]
  },
  {
   "cell_type": "code",
   "execution_count": null,
   "metadata": {},
   "outputs": [],
   "source": [
    "# %%timeit -n1 -r1\n",
    "# meth = 'll'\n",
    "# print('    >>> Fitting method %s' % meth, flush=True)\n",
    "# p = kinetics_fit(ds_slices, params_fixed, method=meth)"
   ]
  },
  {
   "cell_type": "code",
   "execution_count": null,
   "metadata": {},
   "outputs": [],
   "source": [
    "out_fname = 'results/%s_burst_data_vs_time__window%ds_step%ds.csv' % (\n",
    "    Path(filename).stem, moving_window_params['window'], moving_window_params['step'])\n",
    "out_fname"
   ]
  },
  {
   "cell_type": "code",
   "execution_count": null,
   "metadata": {
    "collapsed": true
   },
   "outputs": [],
   "source": [
    "df.to_csv(out_fname)"
   ]
  },
  {
   "cell_type": "markdown",
   "metadata": {},
   "source": [
    "## Population fraction"
   ]
  },
  {
   "cell_type": "code",
   "execution_count": null,
   "metadata": {},
   "outputs": [],
   "source": [
    "# np.abs((params['em', 30, 1]  - params['ll', 30, 1]).p2_amplitude).max()"
   ]
  },
  {
   "cell_type": "code",
   "execution_count": null,
   "metadata": {
    "collapsed": true
   },
   "outputs": [],
   "source": [
    "methods = ('em', 'll', 'hist')"
   ]
  },
  {
   "cell_type": "code",
   "execution_count": null,
   "metadata": {},
   "outputs": [],
   "source": [
    "for meth in methods:\n",
    "    plt.figure(figsize=(14, 3))\n",
    "    plt.plot(params[meth, windows[0], step].index, params[meth, windows[0], step].kinetics, 'h', color='gray', alpha=0.2)\n",
    "    plt.plot(params[meth, windows[1], step].index, params[meth, windows[1], step].kinetics, 'h', alpha=0.3)"
   ]
  },
  {
   "cell_type": "code",
   "execution_count": null,
   "metadata": {},
   "outputs": [],
   "source": [
    "# (params['em', 5, 1].kinetics - params['ll', 5, 1].kinetics).plot()"
   ]
  },
  {
   "cell_type": "code",
   "execution_count": null,
   "metadata": {},
   "outputs": [],
   "source": [
    "step = 1\n",
    "for window in windows:\n",
    "    for meth in methods:\n",
    "        out_fname = ('results/' + Path(filename).stem + \n",
    "                     '_%sfit_ampl_only__window%ds_step%ds.csv' % (meth, window, step))\n",
    "        print('- Saving: ', out_fname)\n",
    "        params[meth, window, step].to_csv(out_fname)"
   ]
  },
  {
   "cell_type": "code",
   "execution_count": null,
   "metadata": {},
   "outputs": [],
   "source": [
    "d"
   ]
  },
  {
   "cell_type": "code",
   "execution_count": null,
   "metadata": {
    "collapsed": true
   },
   "outputs": [],
   "source": []
  }
 ],
 "metadata": {
  "anaconda-cloud": {},
  "kernelspec": {
   "display_name": "Python [default]",
   "language": "python",
   "name": "python3"
  },
  "language_info": {
   "codemirror_mode": {
    "name": "ipython",
    "version": 3
   },
   "file_extension": ".py",
   "mimetype": "text/x-python",
   "name": "python",
   "nbconvert_exporter": "python",
   "pygments_lexer": "ipython3",
   "version": "3.5.2"
  },
  "toc": {
   "colors": {
    "hover_highlight": "#DAA520",
    "running_highlight": "#FF0000",
    "selected_highlight": "#FFD700"
   },
   "moveMenuLeft": true,
   "nav_menu": {
    "height": "261px",
    "width": "252px"
   },
   "navigate_menu": true,
   "number_sections": false,
   "sideBar": true,
   "threshold": 4,
   "toc_cell": false,
   "toc_section_display": "block",
   "toc_window_display": false,
   "widenNotebook": false
  }
 },
 "nbformat": 4,
 "nbformat_minor": 1
}
