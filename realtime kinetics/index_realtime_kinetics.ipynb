{
 "cells": [
  {
   "cell_type": "markdown",
   "metadata": {},
   "source": [
    "# Realtime Kinetics Analysis\n",
    "\n",
    "<p class=\"lead\">This notebook performs realtime kinetics data analysis for the paper: <br><br>\n",
    "<i>Multi-spot single-molecule FRET: high-throughput analysis of freely diffusing molecules</i> <br>\n",
    "Ingargiola et al. PLOS ONE (2017) \n",
    "<a href=\"https://doi.org/10.1371/journal.pone.0175766\">doi:10.1371/journal.pone.0175766</a>\n",
    "</p>\n",
    "\n",
    "For the static dsDNA analysis please refer to:\n",
    "\n",
    "- [Index for dsDNA Analysis](../index.ipynb)"
   ]
  },
  {
   "cell_type": "markdown",
   "metadata": {},
   "source": [
    "## Data preparation\n",
    "\n",
    "The realtime kinetics dataset can be downloaded from:\n",
    "\n",
    "- [Realtime Kinetics of in-vitro RNA Polymerase Transcription Dataset](https://dx.doi.org/10.6084/m9.figshare.3810930.v2)\n",
    "\n",
    "Before running the analysis please put these data files in the `realtime kinetics/data` subfolder."
   ]
  },
  {
   "cell_type": "markdown",
   "metadata": {},
   "source": [
    "## 8-spot realtime kinetics\n",
    "\n",
    "The following notebook analyzes the raw multispot realtime kinetics smFRET data for\n",
    "the different measurement replicates. Burst search results and \n",
    "FRET efficiencies fits are computed on a moving time window:\n",
    "\n",
    "- [8-spot bubble-bubble kinetics - Run-All](8-spot bubble-bubble kinetics - Run-All.ipynb)\n",
    "\n",
    "After this preprocessing the data is summarized and plotted in:\n",
    "\n",
    "- [8-spot bubble-bubble kinetics - Summary](8-spot bubble-bubble kinetics - Summary.ipynb)\n",
    "\n",
    "## 1-spot bubble-bubble kinetics - Run-All\n",
    "\n",
    "Similarly, single-spot μs-ALEX smFRET on the same sample is analyzed in:\n",
    "\n",
    "- [1-spot bubble-bubble kinetics - Run-All](1-spot bubble-bubble kinetics - Run-All.ipynb)\n",
    "\n",
    "And summarized in:\n",
    "\n",
    "- [1-spot bubble-bubble kinetics - Summary](1-spot bubble-bubble kinetics - Summary.ipynb)\n",
    "\n",
    "\n",
    "\n",
    "## Comparison of multispot vs single-spot kinetics\n",
    "\n",
    "- [Multispot vs singlespot kinetics](Multispot vs singlespot kinetics.ipynb)"
   ]
  },
  {
   "cell_type": "markdown",
   "metadata": {},
   "source": [
    "## Simulations\n",
    "\n",
    "Simulations have been performed to study the fitting accuracy of each parameter\n",
    "when using the **simple-exponential** and\n",
    "**integrated-exponential** models for a range of conditions.\n",
    "We test noise levels typical for both multispot \n",
    "and single-spot measurements. For each noise level we performed\n",
    "the model comparison allowing $t_0$ (the origin of the transient) to vary or not.\n",
    "\n",
    "All these simulations are performed in:\n",
    "\n",
    "- [Simulated Kinetic Curve Fit - Run-All](Simulated Kinetic Curve Fit - Run-All.ipynb)\n",
    "\n",
    "Finally, the notebook:\n",
    "\n",
    "- [Effect of moving window averaging on variance](Effect of moving window averaging on variance.ipynb)\n",
    "\n",
    "studies how the variance of a Gaussian random process scales \n",
    "with the size of a moving integration window and the effect\n",
    "of overlapping or non-overlapping windows."
   ]
  },
  {
   "cell_type": "code",
   "execution_count": null,
   "metadata": {
    "collapsed": true
   },
   "outputs": [],
   "source": []
  }
 ],
 "metadata": {
  "anaconda-cloud": {},
  "kernelspec": {
   "display_name": "Python [conda env:multispot_paper]",
   "language": "python",
   "name": "conda-env-multispot_paper-py"
  },
  "language_info": {
   "codemirror_mode": {
    "name": "ipython",
    "version": 3
   },
   "file_extension": ".py",
   "mimetype": "text/x-python",
   "name": "python",
   "nbconvert_exporter": "python",
   "pygments_lexer": "ipython3",
   "version": "3.5.2"
  },
  "toc": {
   "colors": {
    "hover_highlight": "#DAA520",
    "running_highlight": "#FF0000",
    "selected_highlight": "#FFD700"
   },
   "moveMenuLeft": true,
   "nav_menu": {
    "height": "119px",
    "width": "252px"
   },
   "navigate_menu": true,
   "number_sections": false,
   "sideBar": true,
   "threshold": 4,
   "toc_cell": false,
   "toc_section_display": "block",
   "toc_window_display": false,
   "widenNotebook": false
  }
 },
 "nbformat": 4,
 "nbformat_minor": 1
}
